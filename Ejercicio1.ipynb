{
 "cells": [
  {
   "cell_type": "code",
   "execution_count": 6,
   "metadata": {},
   "outputs": [
    {
     "ename": "ModuleNotFoundError",
     "evalue": "No module named 'pygrasp'",
     "output_type": "error",
     "traceback": [
      "\u001b[1;31m---------------------------------------------------------------------------\u001b[0m",
      "\u001b[1;31mModuleNotFoundError\u001b[0m                       Traceback (most recent call last)",
      "Cell \u001b[1;32mIn[6], line 4\u001b[0m\n\u001b[0;32m      1\u001b[0m \u001b[38;5;28;01mimport\u001b[39;00m \u001b[38;5;21;01mdatetime\u001b[39;00m\n\u001b[0;32m      2\u001b[0m \u001b[38;5;28;01mimport\u001b[39;00m \u001b[38;5;21;01mtime\u001b[39;00m\n\u001b[1;32m----> 4\u001b[0m \u001b[38;5;28;01mimport\u001b[39;00m \u001b[38;5;21;01mpygrasp\u001b[39;00m\n\u001b[0;32m      5\u001b[0m \u001b[38;5;28;01mimport\u001b[39;00m \u001b[38;5;21;01mgrasp\u001b[39;00m\u001b[38;5;21;01m.\u001b[39;00m\u001b[38;5;21;01mplot\u001b[39;00m \u001b[38;5;28;01mas\u001b[39;00m \u001b[38;5;21;01mgplot\u001b[39;00m\n\u001b[0;32m      6\u001b[0m \u001b[38;5;28;01mimport\u001b[39;00m \u001b[38;5;21;01mmatplotlib\u001b[39;00m\u001b[38;5;21;01m.\u001b[39;00m\u001b[38;5;21;01mpyplot\u001b[39;00m \u001b[38;5;28;01mas\u001b[39;00m \u001b[38;5;21;01mplt\u001b[39;00m\n",
      "\u001b[1;31mModuleNotFoundError\u001b[0m: No module named 'pygrasp'"
     ]
    }
   ],
   "source": [
    "import datetime\n",
    "import time\n",
    "\n",
    "import pygrasp\n",
    "import grasp.plot as gplot\n",
    "import matplotlib.pyplot as plt\n",
    "import numpy as np\n",
    "import warnings\n",
    "warnings.filterwarnings(\"ignore\", message=\"Converting non-nanosecond precision datetime values to nanosecond precision\")\n",
    "\n",
    "%matplotlib inline"
   ]
  },
  {
   "cell_type": "code",
   "execution_count": 7,
   "metadata": {},
   "outputs": [
    {
     "ename": "NameError",
     "evalue": "name 'pygrasp' is not defined",
     "output_type": "error",
     "traceback": [
      "\u001b[1;31m---------------------------------------------------------------------------\u001b[0m",
      "\u001b[1;31mNameError\u001b[0m                                 Traceback (most recent call last)",
      "Cell \u001b[1;32mIn[7], line 4\u001b[0m\n\u001b[0;32m      1\u001b[0m \u001b[38;5;66;03m# EJERCICIO 1: EJECUTAR GRASP PARA SIMULAR OBSERVACIONES DE UN AEROSOL (\"settingsForward\")\u001b[39;00m\n\u001b[0;32m      2\u001b[0m \u001b[38;5;66;03m# MODIFICAR OBSERVACIONES Y INVERTIRLAS CON DISTINTOS PARAMETROS\u001b[39;00m\n\u001b[0;32m      3\u001b[0m \u001b[38;5;66;03m# Ejecutar grasp y sacar por pantalla\u001b[39;00m\n\u001b[1;32m----> 4\u001b[0m settingsf \u001b[38;5;241m=\u001b[39m pygrasp\u001b[38;5;241m.\u001b[39mSettings\u001b[38;5;241m.\u001b[39mload(\u001b[38;5;124m\"\u001b[39m\u001b[38;5;124msettings/settingsForward.yml\u001b[39m\u001b[38;5;124m\"\u001b[39m)\n\u001b[0;32m      5\u001b[0m settingsf\u001b[38;5;241m.\u001b[39mretrieval\u001b[38;5;241m.\u001b[39mmode \u001b[38;5;241m=\u001b[39m \u001b[38;5;124m\"\u001b[39m\u001b[38;5;124mforward\u001b[39m\u001b[38;5;124m\"\u001b[39m\n\u001b[0;32m      7\u001b[0m settingsf\u001b[38;5;241m.\u001b[39minput\u001b[38;5;241m.\u001b[39mfile \u001b[38;5;241m=\u001b[39m \u001b[38;5;124m\"\u001b[39m\u001b[38;5;124mgeometriaSDATA/geo_aod-4_I-4_sza75.dat\u001b[39m\u001b[38;5;124m\"\u001b[39m\n",
      "\u001b[1;31mNameError\u001b[0m: name 'pygrasp' is not defined"
     ]
    }
   ],
   "source": [
    "# EJERCICIO 1: EJECUTAR GRASP PARA SIMULAR OBSERVACIONES DE UN AEROSOL (\"settingsForward\")\n",
    "# MODIFICAR OBSERVACIONES Y INVERTIRLAS CON DISTINTOS PARAMETROS\n",
    "# Ejecutar grasp y sacar por pantalla\n",
    "settingsf = pygrasp.Settings.load(\"settings/settingsForward.yml\")\n",
    "settingsf.retrieval.mode = \"forward\"\n",
    "\n",
    "settingsf.input.file = \"geometriaSDATA/geo_aod-4_I-4_sza75.dat\"\n",
    "settingsf.output.segment.stream = \"output/forward_sza75.dat\"\n",
    "settingsf.output.sdata.dump = \"sdatas_simulados/sdata_sza75.dat\"\n",
    "\n",
    "resultsForward = pygrasp.run(settingsf)"
   ]
  },
  {
   "cell_type": "code",
   "execution_count": null,
   "metadata": {},
   "outputs": [],
   "source": [
    "# Lista el contenido del submódulo\n",
    "print(resultsForward[0, 0, 0])"
   ]
  },
  {
   "cell_type": "code",
   "execution_count": null,
   "metadata": {},
   "outputs": [],
   "source": [
    "resultsForward[0, 0, 0].retrieval_par.parameters[0:25]"
   ]
  },
  {
   "cell_type": "code",
   "execution_count": null,
   "metadata": {},
   "outputs": [],
   "source": [
    "print(resultsForward[0, 0, 0].retrieval_par[0,0,0].sd[0,0:22])"
   ]
  },
  {
   "cell_type": "code",
   "execution_count": null,
   "metadata": {},
   "outputs": [],
   "source": [
    "sdT=(resultsForward[0, 0, 0].retrieval_par[0,0,0].sd[0,0:22])\n",
    "radiusT=(resultsForward[0, 0, 0].retrieval_par[0,0,0].sd[0,0:22].radius)\n",
    "sdF=(resultsForward[0, 0, 0].retrieval_par[0,0,0].sd[1,0:10])\n",
    "radiusF=(resultsForward[0, 0, 0].retrieval_par[0,0,0].sd[1,0:10].radius)\n",
    "sdC=(resultsForward[0, 0, 0].retrieval_par[0,0,0].sd[2,0:15])\n",
    "radiusC=(resultsForward[0, 0, 0].retrieval_par[0,0,0].sd[2,0:15].radius)\n",
    "plt.plot(radiusT,sdT,label='Total')\n",
    "plt.xscale('log')\n",
    "plt.ion\n",
    "plt.plot(radiusF,sdF, '-.r',label='Fino')\n",
    "plt.plot(radiusC,sdC, '-.g',label='Grueso')\n",
    "plt.xlabel(\"Radio (micras)\")\n",
    "plt.ylabel(\"Aerosol VC (um^3/um^2)\");\n",
    "plt.legend()\n",
    "tick_positions = [0.05, 0.2, 1, 5, 15]  # Posiciones en el eje x\n",
    "plt.xticks(tick_positions, labels=tick_positions)  # Usar las mismas etiquetas que las posiciones\n",
    "#gplot.feature_plots.plot_real_refractive_index(resultsForward[0, 0, 0])"
   ]
  },
  {
   "cell_type": "code",
   "execution_count": null,
   "metadata": {},
   "outputs": [],
   "source": [
    "# Salvo las vaiables\n",
    "wl = (resultsForward[:, :, :].retrieved.imaginary_part_of_refractive_index_spectral_dependent[0, 0, 0, :, 0].wl)\n",
    "\n",
    "RRI1f = (resultsForward[:, :, :].retrieved.real_part_of_refractive_index_spectral_dependent[0, 0, 0, :, 0].values)\n",
    "RRI2f = (resultsForward[:, :, :].retrieved.real_part_of_refractive_index_spectral_dependent[0, 0, 0, :, 1].values)\n",
    "IMI1f = (resultsForward[:, :, :].retrieved.imaginary_part_of_refractive_index_spectral_dependent[0, 0, 0, :, 0].values)\n",
    "IMI2f = (resultsForward[:, :, :].retrieved.imaginary_part_of_refractive_index_spectral_dependent[0, 0, 0, :, 1].values)\n",
    "print(IMI1f)"
   ]
  },
  {
   "cell_type": "code",
   "execution_count": null,
   "metadata": {},
   "outputs": [],
   "source": [
    "#Dibujo los indices imaginarios\n",
    "plt.plot(wl, IMI1f,label = \"Modo 1\")\n",
    "plt.title(f\"Indices imaginarios de refraccion con la longitud de onda\");\n",
    "plt.xlabel(\"lambda\")   # Establece el título del eje x\n",
    "plt.ylabel(\"IMI\")   # Establece el título del eje y\n",
    "plt.ion() \n",
    "plt.plot(wl, IMI2f,label = \"Modo 2\")\n",
    "plt.legend(loc=\"best\");"
   ]
  },
  {
   "cell_type": "code",
   "execution_count": null,
   "metadata": {},
   "outputs": [],
   "source": [
    "#Dibujo los indices reales\n",
    "plt.plot(wl, RRI1f,label = \"Modo 1\")\n",
    "plt.title(f\"Indices reales de refraccion con la longitud de onda\");\n",
    "plt.xlabel(\"lambda\")   # Establece el título del eje x\n",
    "plt.ylabel(\"IMI\")   # Establece el título del eje y\n",
    "plt.ion() \n",
    "plt.plot(wl, RRI2f,label = \"Modo 2\")\n",
    "plt.legend(loc=\"best\");"
   ]
  },
  {
   "cell_type": "code",
   "execution_count": null,
   "metadata": {},
   "outputs": [],
   "source": [
    "# Busco el sdata simulado para invertirlo\n",
    "sdata = pygrasp.SDATA(\"sdatas_simulados/sdata_sza75.dat\")\n",
    "\n",
    "# Se llama a la settings de inversion\n",
    "settings = pygrasp.Settings.load(\"settings/settings_example_sunphotometer_inversion.yml\")\n",
    "settings.retrieval.mode = \"inversion\"\n",
    "settings.output.segment.stream = \"output/output_sza75.dat\"\n",
    "\n",
    "\n",
    "# se pueden modificar las settings con los siguietnes comandos\n",
    "#settings.retrieval.constraints.characteristic[1].mode[1].single_pixel.smoothness_constraints.lagrange_multiplier=10\n",
    "#settings.retrieval.constraints.characteristic[2].mode[1].single_pixel.a_priori_estimates.lagrange_multiplier=[1000,1000,1000,1000]\n",
    "# settings.retrieval.constraints.characteristic[2].mode[1].single_pixel.smoothness_constraints.lagrange_multiplier=1000000\n",
    "#settings.retrieval.constraints.characteristic[3].mode[1].single_pixel.smoothness_constraints.lagrange_multiplier=1000\n",
    "#settings.retrieval.constraints.characteristic[1].mode[1].single_pixel.smoothness_constraints.lagrange_multiplier=0.1\n",
    "#settings.retrieval.constraints.characteristic[2].mode[1].single_pixel.smoothness_constraints.lagrange_multiplier=1000\n",
    "#print(sdata.pixel[0].meas[3].aod[0])\n",
    "#sdata.pixel[0].meas[3].aod[0] = 0.5\n",
    "results = pygrasp.run(settings, sdata=sdata, print_screen=False)\n",
    "\n",
    "residual = np.array(results[0, 0, 0].retrieval_res.resr[:])\n",
    "Conver = np.array(results[0, 0, 0].retrieval_res.rest)"
   ]
  },
  {
   "cell_type": "code",
   "execution_count": null,
   "metadata": {},
   "outputs": [],
   "source": [
    "# DIBUJO LA SIZE DISTRIBUTION\n",
    "sdF=(resultsForward[0, 0, 0].retrieval_par[0,0,0].sd[0,0:22].values)\n",
    "radiusF=(resultsForward[0, 0, 0].retrieval_par[0,0,0].sd[0,0:22].radius)\n",
    "VCS=results[0, 0, 0].retrieved.aerosol_concentration[0,0,0,0,0].values\n",
    "sds=(results[0, 0, 0].retrieved.size_distribution_triangle_bins[0,0,0,0:22,0].values)\n",
    "sdS=[]\n",
    "for n in range(0,len(sds)):\n",
    "    sdS.append(sds[n]*VCS)\n",
    "\n",
    "radiusS=results[0, 0, 0].retrieval_par[0,0,0].sd[0,0:22].radius\n",
    "plt.plot(radiusF,sdF,label='Forward')\n",
    "plt.xscale('log')\n",
    "plt.ion\n",
    "plt.plot(radiusS,sdS, '-.g',label='Sin ruido')\n",
    "plt.xlabel(\"Radio (micras)\")\n",
    "plt.ylabel(\"Aerosol VC (um^3/um^2)\");\n",
    "plt.legend()\n",
    "tick_positions = [0.05, 0.2, 1, 5, 15]  # Posiciones en el eje x\n",
    "plt.xticks(tick_positions, labels=tick_positions)  # Usar las mismas etiquetas que las posiciones\n",
    "print(\"Error relativo medidas de Radiancia=% \")\n",
    "print((residual[0] * 100))\n",
    "print(\"Error relativo medidas de AOD=% \")\n",
    "print(residual[1] * 100)\n",
    "print(\"Error de la convergencia \")\n",
    "print(Conver * 100)"
   ]
  },
  {
   "cell_type": "code",
   "execution_count": null,
   "metadata": {},
   "outputs": [],
   "source": [
    "#Salvo las variables invertidas\n",
    "wl=(results[:,:,:].retrieved.imaginary_part_of_refractive_index_spectral_dependent[0,0,0,:].wl)\n",
    "\n",
    "RRI=(results[:,:,:].retrieved.real_part_of_refractive_index_spectral_dependent[0,0,0,:].values)\n",
    "IMI=(results[:,:,:].retrieved.imaginary_part_of_refractive_index_spectral_dependent[0,0,0,:].values)\n",
    "print(IMI);"
   ]
  },
  {
   "cell_type": "code",
   "execution_count": null,
   "metadata": {},
   "outputs": [],
   "source": [
    "print(resultsForward[0, 0, 0].retrieval_par[0,0,0].sd[2,0:22])"
   ]
  },
  {
   "cell_type": "code",
   "execution_count": null,
   "metadata": {},
   "outputs": [],
   "source": [
    "#Dibujo los indices imaginarios\n",
    "plt.plot(wl, IMI1f,label = \"Modo 1\")\n",
    "plt.title(f\"Indices iamginarios de refraccion con la longitud de onda\");\n",
    "plt.xlabel(\"lambda\")   # Establece el título del eje x\n",
    "plt.ylabel(\"IMI\")   # Establece el título del eje y\n",
    "plt.ion() \n",
    "plt.plot(wl, IMI2f,label = \"Modo 2\")\n",
    "plt.plot(wl, IMI,label = \"Invertido\")\n",
    "plt.legend(loc=\"best\");"
   ]
  },
  {
   "cell_type": "code",
   "execution_count": null,
   "metadata": {},
   "outputs": [],
   "source": [
    "#Dibujo los indices reales con el invertido\n",
    "plt.plot(wl, RRI1f,label = \"Modo 1\")\n",
    "plt.title(f\"Indices reales de refraccion con la longitud de onda\");\n",
    "plt.xlabel(\"lambda\")   # Establece el título del eje x\n",
    "plt.ylabel(\"RRI\")   # Establece el título del eje y\n",
    "plt.ion() \n",
    "plt.plot(wl, RRI2f,label = \"Modo 2\")\n",
    "plt.plot(wl, RRI,label = \"Invertido\")\n",
    "plt.legend(loc=\"best\");"
   ]
  },
  {
   "cell_type": "code",
   "execution_count": null,
   "metadata": {},
   "outputs": [],
   "source": [
    "##############################################\n",
    "# SE MODIFICAN LAS MEDIDAS DEL SDATA METIENDO ERROR ALEATORIO\n",
    "# Busco el sdata y lo modifico en sdata 2\n",
    "sdata = []\n",
    "sdata2 = []\n",
    "sdata = pygrasp.SDATA(\"sdatas_simulados/sdata_sza75.dat\")\n",
    "sdata2 = pygrasp.SDATA(\"sdatas_simulados/sdata_sza75.dat\")"
   ]
  },
  {
   "cell_type": "code",
   "execution_count": null,
   "metadata": {},
   "outputs": [],
   "source": [
    "#METO RUIDO DEL 5% A LAS MEDIDAS DE RADIANCIA\n",
    "NBVM=sdata.pixel[0].meas[0].nbvm[1];\n",
    "ale=np.random.randn(NBVM)*0.05\n",
    "Rad=sdata.pixel[0].meas[0].i[:NBVM]\n",
    "sdata2.pixel[0].meas[0].i[:NBVM]=np.array(sdata.pixel[0].meas[0].i[:NBVM])+ np.array(sdata.pixel[0].meas[0].i[:NBVM])*ale\n",
    "NBVM=sdata.pixel[0].meas[1].nbvm[1];\n",
    "ale=np.random.randn(NBVM)*0.05\n",
    "Rad=sdata.pixel[0].meas[1].i[:NBVM]\n",
    "sdata2.pixel[0].meas[1].i[:NBVM]=np.array(sdata.pixel[0].meas[1].i[:NBVM])+ np.array(sdata.pixel[0].meas[1].i[:NBVM])*ale\n",
    "NBVM=sdata.pixel[0].meas[2].nbvm[1];\n",
    "ale=np.random.randn(NBVM)*0.05\n",
    "Rad=sdata.pixel[0].meas[2].i[:NBVM]\n",
    "sdata2.pixel[0].meas[2].i[:NBVM]=np.array(sdata.pixel[0].meas[2].i[:NBVM])+ np.array(sdata.pixel[0].meas[2].i[:NBVM])*ale\n",
    "NBVM=sdata.pixel[0].meas[3].nbvm[1];\n",
    "ale=np.random.randn(NBVM)*0.05\n",
    "Rad=sdata.pixel[0].meas[3].i[:NBVM]\n",
    "sdata2.pixel[0].meas[3].i[:NBVM]=np.array(sdata.pixel[0].meas[3].i[:NBVM])+ np.array(sdata.pixel[0].meas[3].i[:NBVM])*ale\n"
   ]
  },
  {
   "cell_type": "code",
   "execution_count": null,
   "metadata": {},
   "outputs": [],
   "source": [
    "# METO RUIDO DE 0.01 A LAS MEDIDAS DE AOD\n",
    "NBVM = sdata.pixel[0].meas[0].nbvm[0]\n",
    "ale = np.random.randn(NBVM) * 0.01\n",
    "AOD = sdata.pixel[0].meas[0].aod[:NBVM]\n",
    "sdata2.pixel[0].meas[0].aod[:NBVM] = sdata.pixel[0].meas[0].aod[:NBVM] + ale\n",
    "NBVM = sdata.pixel[0].meas[1].nbvm[0]\n",
    "ale = np.random.randn(NBVM) * 0.01\n",
    "AOD = sdata.pixel[0].meas[1].aod[:NBVM]\n",
    "sdata2.pixel[0].meas[1].aod[:NBVM] = sdata.pixel[0].meas[1].aod[:NBVM] + ale\n",
    "NBVM = sdata.pixel[0].meas[2].nbvm[0]\n",
    "ale = np.random.randn(NBVM) * 0.01\n",
    "AOD = sdata.pixel[0].meas[2].aod[:NBVM]\n",
    "sdata2.pixel[0].meas[2].aod[:NBVM] = sdata.pixel[0].meas[2].aod[:NBVM] + ale\n",
    "NBVM = sdata.pixel[0].meas[3].nbvm[0]\n",
    "ale = np.random.randn(NBVM) * 0.01\n",
    "AOD = sdata.pixel[0].meas[3].aod[:NBVM]\n",
    "sdata2.pixel[0].meas[3].aod[:NBVM] = sdata.pixel[0].meas[3].aod[:NBVM] + ale"
   ]
  },
  {
   "cell_type": "code",
   "execution_count": null,
   "metadata": {},
   "outputs": [],
   "source": [
    "# Se llama a la settings de inversion\n",
    "settings = pygrasp.Settings.load(\"settings/settings_example_sunphotometer_inversion.yml\")\n",
    "settings.output.segment.stream = \"output/outputRuido_sza75.dat\"\n",
    "settings.retrieval.constraints.characteristic[1].mode[1].single_pixel.smoothness_constraints.lagrange_multiplier=0.1\n",
    "settings.retrieval.constraints.characteristic[2].mode[1].single_pixel.smoothness_constraints.lagrange_multiplier=1000\n",
    "#settings.retrieval.constraints.characteristic[3].mode[1].single_pixel.smoothness_constraints.lagrange_multiplier=10\n",
    "\n",
    "resultsRUIDO = pygrasp.run(settings, sdata=sdata2, print_screen=True)"
   ]
  },
  {
   "cell_type": "code",
   "execution_count": null,
   "metadata": {},
   "outputs": [],
   "source": [
    "sdF=(resultsForward[0, 0, 0].retrieval_par[0,0,0].sd[0,0:22])\n",
    "radiusF=(resultsForward[0, 0, 0].retrieval_par[0,0,0].sd[0,0:22].radius)\n",
    "\n",
    "VCS=results[0, 0, 0].retrieved.aerosol_concentration[0,0,0,0,0].values\n",
    "sds=(results[0, 0, 0].retrieved.size_distribution_triangle_bins[0,0,0,0:22,0].values)\n",
    "sdS=[]\n",
    "for n in range(0,len(sds)):\n",
    "    sdS.append(sds[n]*VCS)\n",
    "radiusS=(results[0, 0, 0].retrieval_par[0,0,0].sd[0,0:22].radius)\n",
    "\n",
    "VCR=resultsRUIDO[0, 0, 0].retrieved.aerosol_concentration[0,0,0,0,0].values\n",
    "sdr=(resultsRUIDO[0, 0, 0].retrieved.size_distribution_triangle_bins[0,0,0,0:22,0].values)\n",
    "sdR=[]\n",
    "for n in range(0,len(sdr)):\n",
    "    sdR.append(sdr[n]*VCR)\n",
    "radiusR=(resultsRUIDO[0, 0, 0].retrieval_par[0,0,0].sd[0,0:22].radius)\n",
    "\n",
    "\n",
    "plt.plot(radiusF,sdF,label='Forward')\n",
    "plt.xscale('log')\n",
    "plt.ion\n",
    "plt.plot(radiusS,sdS, '-.g',label='Sin ruido')\n",
    "plt.plot(radiusR,sdR, '-.r',label='Con Ruido')\n",
    "plt.xlabel(\"Radio (micras)\")\n",
    "plt.ylabel(\"Aerosol VC (um^3/um^2)\");\n",
    "plt.legend()\n",
    "tick_positions = [0.05, 0.2, 1, 5, 15]  # Posiciones en el eje x\n",
    "plt.xticks(tick_positions, labels=tick_positions)  # Usar las mismas etiquetas que las posiciones\n",
    "residual = np.array(resultsRUIDO[0, 0, 0].retrieval_res.resr[:])\n",
    "Conver = np.array(resultsRUIDO[0, 0, 0].retrieval_res.rest)\n",
    "print(\"Error relativo medidas de Radiancia=% \")\n",
    "print((residual[0] * 100))\n",
    "print(\"Error relativo medidas de AOD=% \")\n",
    "print(residual[1] * 100)\n",
    "print(\"Error de la convergencia \")\n",
    "print(Conver * 100)"
   ]
  },
  {
   "cell_type": "code",
   "execution_count": null,
   "metadata": {},
   "outputs": [],
   "source": [
    "#Salvo las variables invertidas\n",
    "RRIr=(resultsRUIDO[:,:,:].retrieved.real_part_of_refractive_index_spectral_dependent[0,0,0,:].values)\n",
    "IMIr=(resultsRUIDO[:,:,:].retrieved.imaginary_part_of_refractive_index_spectral_dependent[0,0,0,:].values)"
   ]
  },
  {
   "cell_type": "code",
   "execution_count": null,
   "metadata": {},
   "outputs": [],
   "source": [
    "#Dibujo los indices imaginarios\n",
    "plt.plot(wl, IMI1f,label = \"Modo 1\")\n",
    "plt.title(f\"Indices iamginarios de refraccion con la longitud de onda\");\n",
    "plt.xlabel(\"lambda\")   # Establece el título del eje x\n",
    "plt.ylabel(\"IMI\")   # Establece el título del eje y\n",
    "plt.ion() \n",
    "plt.plot(wl, IMI2f,label = \"Modo 2\")\n",
    "plt.plot(wl, IMI,label = \"Invertido\")\n",
    "plt.plot(wl, IMIr,label = \"Invertido Ruido\")\n",
    "plt.legend(loc=\"best\");\n"
   ]
  },
  {
   "cell_type": "code",
   "execution_count": null,
   "metadata": {},
   "outputs": [],
   "source": [
    "#Dibujo los indices reales\n",
    "plt.plot(wl, RRI1f,label = \"Modo 1\")\n",
    "plt.title(f\"Indices reales de refraccion con la longitud de onda\");\n",
    "plt.xlabel(\"lambda\")   # Establece el título del eje x\n",
    "plt.ylabel(\"RRI\")   # Establece el título del eje y\n",
    "plt.ion() \n",
    "plt.plot(wl, RRI2f,label = \"Modo 2\")\n",
    "plt.plot(wl, RRI,label = \"Invertido\")\n",
    "plt.plot(wl, RRIr,label = \"Invertido Ruido\")\n",
    "plt.legend(loc=\"best\");"
   ]
  },
  {
   "cell_type": "code",
   "execution_count": null,
   "metadata": {},
   "outputs": [],
   "source": []
  }
 ],
 "metadata": {
  "kernelspec": {
   "display_name": "Python 3 (ipykernel)",
   "language": "python",
   "name": "python3"
  },
  "language_info": {
   "codemirror_mode": {
    "name": "ipython",
    "version": 3
   },
   "file_extension": ".py",
   "mimetype": "text/x-python",
   "name": "python",
   "nbconvert_exporter": "python",
   "pygments_lexer": "ipython3",
   "version": "3.11.5"
  },
  "varInspector": {
   "cols": {
    "lenName": 16,
    "lenType": 16,
    "lenVar": 40
   },
   "kernels_config": {
    "python": {
     "delete_cmd_postfix": "",
     "delete_cmd_prefix": "del ",
     "library": "var_list.py",
     "varRefreshCmd": "print(var_dic_list())"
    },
    "r": {
     "delete_cmd_postfix": ") ",
     "delete_cmd_prefix": "rm(",
     "library": "var_list.r",
     "varRefreshCmd": "cat(var_dic_list()) "
    }
   },
   "types_to_exclude": [
    "module",
    "function",
    "builtin_function_or_method",
    "instance",
    "_Feature"
   ],
   "window_display": false
  }
 },
 "nbformat": 4,
 "nbformat_minor": 4
}
