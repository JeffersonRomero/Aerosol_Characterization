{
 "cells": [
  {
   "cell_type": "markdown",
   "id": "2507ed8b-75b1-4692-9b64-b17bac10defa",
   "metadata": {
    "execution": {
     "iopub.execute_input": "2024-12-14T08:56:01.499971Z",
     "iopub.status.busy": "2024-12-14T08:56:01.499129Z",
     "iopub.status.idle": "2024-12-14T08:56:01.504567Z",
     "shell.execute_reply": "2024-12-14T08:56:01.503547Z",
     "shell.execute_reply.started": "2024-12-14T08:56:01.499939Z"
    }
   },
   "source": [
    "## Compilar GRASP"
   ]
  },
  {
   "cell_type": "code",
   "execution_count": null,
   "id": "c5d315f7-8ce4-4539-8410-922ffd622850",
   "metadata": {
    "scrolled": true
   },
   "outputs": [],
   "source": [
    "!cp grasp-manager.yml /home/grasp/grasp && cd /home/grasp/grasp && git pull && ./grasp-manager.sh checkout v1.1.6 generic && ./grasp-manager.sh make generic && ./grasp-manager.sh install"
   ]
  },
  {
   "cell_type": "code",
   "execution_count": null,
   "id": "7b42e864-d993-4d65-8ba9-0c6890f65dc6",
   "metadata": {},
   "outputs": [],
   "source": [
    "!grasp"
   ]
  }
 ],
 "metadata": {
  "kernelspec": {
   "display_name": "Python 3 (ipykernel)",
   "language": "python",
   "name": "python3"
  },
  "language_info": {
   "codemirror_mode": {
    "name": "ipython",
    "version": 3
   },
   "file_extension": ".py",
   "mimetype": "text/x-python",
   "name": "python",
   "nbconvert_exporter": "python",
   "pygments_lexer": "ipython3",
   "version": "3.11.5"
  },
  "varInspector": {
   "cols": {
    "lenName": 16,
    "lenType": 16,
    "lenVar": 40
   },
   "kernels_config": {
    "python": {
     "delete_cmd_postfix": "",
     "delete_cmd_prefix": "del ",
     "library": "var_list.py",
     "varRefreshCmd": "print(var_dic_list())"
    },
    "r": {
     "delete_cmd_postfix": ") ",
     "delete_cmd_prefix": "rm(",
     "library": "var_list.r",
     "varRefreshCmd": "cat(var_dic_list()) "
    }
   },
   "types_to_exclude": [
    "module",
    "function",
    "builtin_function_or_method",
    "instance",
    "_Feature"
   ],
   "window_display": false
  }
 },
 "nbformat": 4,
 "nbformat_minor": 5
}
