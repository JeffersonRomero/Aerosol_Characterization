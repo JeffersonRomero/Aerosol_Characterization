{
 "cells": [
  {
   "cell_type": "code",
   "execution_count": 28,
   "metadata": {
    "execution": {
     "iopub.execute_input": "2024-12-14T15:39:17.729416Z",
     "iopub.status.busy": "2024-12-14T15:39:17.728751Z",
     "iopub.status.idle": "2024-12-14T15:39:17.739460Z",
     "shell.execute_reply": "2024-12-14T15:39:17.738127Z",
     "shell.execute_reply.started": "2024-12-14T15:39:17.729373Z"
    }
   },
   "outputs": [],
   "source": [
    "#PARA COMENZAR HAY QUE CARGAR LAS LIBRERIAS DE GRASP Y OTRAS PARA DIBUJAR Y ANALIZAR\n",
    "import pygrasp\n",
    "import grasp.plot as gplot\n",
    "import numpy as np\n",
    "import matplotlib.pyplot as plt\n",
    "import time\n",
    "import datetime\n",
    "import os\n",
    "%matplotlib inline \n",
    "import warnings\n",
    "warnings.filterwarnings(\"ignore\", message=\"Converting non-nanosecond precision datetime values to nanosecond precision\")\n"
   ]
  },
  {
   "cell_type": "code",
   "execution_count": 29,
   "metadata": {
    "execution": {
     "iopub.execute_input": "2024-12-14T15:39:18.049551Z",
     "iopub.status.busy": "2024-12-14T15:39:18.048956Z",
     "iopub.status.idle": "2024-12-14T15:39:18.055316Z",
     "shell.execute_reply": "2024-12-14T15:39:18.054181Z",
     "shell.execute_reply.started": "2024-12-14T15:39:18.049519Z"
    }
   },
   "outputs": [
    {
     "name": "stdout",
     "output_type": "stream",
     "text": [
      "GRASP core version: v1.1.6 (commit: 31440054 ; branch_name: HEAD)\n",
      " Compiled on 2024-12-14 11:15:14 +0000 commit of 2024-04-30 14:51:45 +0200\n",
      " With C compiler: cc (Ubuntu 11.4.0-1ubuntu1~22.04) 11.4.0 \n",
      " With FORTRAN compiler: GNU Fortran (Ubuntu 11.4.0-1ubuntu1~22.04) 11.4.0 \n",
      " Using generic constant set and build type Release\n",
      " Other options: models module compiled (b8bc371),\n",
      " Maximum segment size: nx=2 ; ny=2 ; nt=30\n",
      " Input drivers loaded: sdata \n",
      " Input transformers loaded: none segment_imagedat \n",
      " Output segment functions loaded: classic classic_plot csv none \n",
      " Output tile functions loaded: csv none \n",
      " Output current functions loaded: none \n",
      " Path to resources: /home/grasp/.local/share/grasp/\n",
      " Sparse solver used: SuperLU\n",
      " Build System: Linux-6.8.0-40-generic\n",
      " Executable path: /grasp_app\n"
     ]
    }
   ],
   "source": [
    "#Ver la versión de GRASP\n",
    "print(pygrasp.version())"
   ]
  },
  {
   "cell_type": "code",
   "execution_count": 30,
   "metadata": {
    "execution": {
     "iopub.execute_input": "2024-12-14T15:39:18.242659Z",
     "iopub.status.busy": "2024-12-14T15:39:18.241647Z",
     "iopub.status.idle": "2024-12-14T15:39:19.520987Z",
     "shell.execute_reply": "2024-12-14T15:39:19.519513Z",
     "shell.execute_reply.started": "2024-12-14T15:39:18.242620Z"
    }
   },
   "outputs": [
    {
     "name": "stdout",
     "output_type": "stream",
     "text": [
      "Config file read successfully\n",
      "The tile is divided in segments with 1 rows, 1 cols and 1 times. 1 inversions will be performed (sequential version)\n",
      "Retrieval #0 (1/1): 100.00%: 1 pixels will be processed\n",
      "in set_RIN_retr_par_number:\n",
      "    KNSING  = 23 - number of parameters driving forward model for each pixel\n",
      "    KNSINGF = 6 - number of retrieved parameters for each pixel\n",
      "in set_RIN_RT_OSH_flags_surf:\n",
      "    isurf_land(1), isurf_land(2), isurf_water:\n",
      "     -999    -999    -999\n",
      "in inversion:\n",
      "    npixels = 1\n",
      "    nsd = 2\n",
      "    lm_min =  0.0000E+00\n",
      "    ccor_min =  0.0000E+00\n",
      "    ccor_max =  1.0000E+02\n",
      "wavelengths(um):\n",
      "   0.34000   0.38000   0.44000   0.50000   0.67500   0.87000   1.02000   1.64000\n",
      "WARNING: standard_deviation_synthetic = 0. No random noise is added.\n",
      "in assign_noise_index:\n",
      "    pixel # 1   MNOISE:\n",
      "   1   1   1   1   1   1   1   1\n",
      "\n",
      " 190.57249    1:   0.22680E+00      156.72447 %      pixel # 1      Residual using INITIAL GUESS\n",
      "  29.82119    1:   0.42973E-01       31.74082 %      pixel # 1      Residual after iteration # 1\n",
      "  10.67132    1:   0.16177E-01       10.87167 %      pixel # 1      Residual after iteration # 2\n",
      "   5.39340    1:   0.11714E-01        6.01418 %      pixel # 1      Residual after iteration # 3\n",
      "   0.44232    1:   0.64203E-03        0.49433 %      pixel # 1      Residual after iteration # 4\n",
      "   0.04198    1:   0.78427E-04        0.04691 %      pixel # 1      Residual after iteration # 5\n",
      "   0.03313    1:   0.38626E-04        0.03374 %      pixel # 1      Residual after iteration # 6\n",
      "   0.00728    1:   0.13699E-04        0.00725 %      pixel # 1      Residual after iteration # 7\n",
      "   0.00190    1:   0.21169E-05        0.00183 %      pixel # 1      Residual after iteration # 8\n",
      "   0.00044    1:   0.60692E-06        0.00042 %      pixel # 1      Residual after iteration # 9\n",
      "   0.00044    1:   0.60692E-06        0.00042 %      pixel # 1      Residual after iteration # 10\n",
      "Solver SUPERLU system solving CPU_time(sec) =         0.00043\n",
      "\n",
      "Retrieval #0 (1/1): 100.00%: 1 pixels processed in 0.394932 seconds (cpu time: 0.427085). Average per pixel: 0.394932 (cpu time: 0.427085)\n",
      "Retrieval #0 (1/1): 100.00%: finished\n",
      "\n",
      "Detailed residuals after final iteration\n",
      "            noise          abs            rel\n",
      "   0.00044    1:   0.60692E-06        0.00042 %      pixel # 1      Residual after iteration # 10\n",
      "\n",
      "Date:             2010-01-01\n",
      "Time:               01:00:00\n",
      "Longitude:           -5.2500\n",
      "Latitude :           41.5600\n",
      "Parameter #, Vector of retrieved parameters\n",
      "             1   0.14795E+00\n",
      "             2   0.38071E+00\n",
      "             3   0.30903E+01\n",
      "             4   0.73831E+00\n",
      "             5   0.48034E-01\n",
      "             6   0.22391E-01\n",
      "             7   0.14010E+01\n",
      "             8   0.14010E+01\n",
      "             9   0.14010E+01\n",
      "            10   0.14010E+01\n",
      "            11   0.14010E+01\n",
      "            12   0.14010E+01\n",
      "            13   0.14010E+01\n",
      "            14   0.14010E+01\n",
      "            15   0.30000E-02\n",
      "            16   0.30000E-02\n",
      "            17   0.30000E-02\n",
      "            18   0.30000E-02\n",
      "            19   0.30000E-02\n",
      "            20   0.30000E-02\n",
      "            21   0.30000E-02\n",
      "            22   0.30000E-02\n",
      "            23   0.99900E+00\n",
      "\n",
      "*** DETAILED PARAMETERS ***\n",
      "Date:             2010-01-01\n",
      "Time:               01:00:00\n",
      "Longitude:           -5.2500\n",
      "Latitude :           41.5600\n",
      "Radius (um), Size Distribution dV/dlnr (normalized by particle volume concentration) for Particle component 1\n",
      "       0.05000   0.18074E-01\n",
      "       0.06560   0.10701E+00\n",
      "       0.08608   0.38088E+00\n",
      "       0.11294   0.81485E+00\n",
      "       0.14818   0.10479E+01\n",
      "       0.19443   0.81004E+00\n",
      "       0.25510   0.37640E+00\n",
      "       0.33472   0.10513E+00\n",
      "       0.43917   0.17651E-01\n",
      "       0.57623   0.17814E-02\n",
      "       0.75605   0.10806E-03\n",
      "       0.99200   0.39406E-05\n",
      "       1.30157   0.86376E-07\n",
      "       1.70776   0.11381E-08\n",
      "       2.24070   0.90136E-11\n",
      "       2.93997   0.42911E-13\n",
      "       3.85745   0.12280E-15\n",
      "       5.06126   0.21123E-18\n",
      "       6.64074   0.21842E-21\n",
      "       8.71314   0.13575E-24\n",
      "      11.43229   0.50719E-28\n",
      "      14.99999   0.11390E-31\n",
      "Parameters of lognormal SD for Particle component 1\n",
      "      rv (um):   0.14795E+00\n",
      "    ln(sigma):   0.38071E+00\n",
      "Radius (um), Size Distribution dV/dlnr (normalized by particle volume concentration) for Particle component 2\n",
      "       0.05000   0.90697E-07\n",
      "       0.06560   0.66165E-06\n",
      "       0.08608   0.42159E-05\n",
      "       0.11294   0.23462E-04\n",
      "       0.14818   0.11405E-03\n",
      "       0.19443   0.48418E-03\n",
      "       0.25510   0.17954E-02\n",
      "       0.33472   0.58150E-02\n",
      "       0.43917   0.16450E-01\n",
      "       0.57623   0.40643E-01\n",
      "       0.75605   0.87708E-01\n",
      "       0.99200   0.16532E+00\n",
      "       1.30157   0.27216E+00\n",
      "       1.70776   0.39134E+00\n",
      "       2.24070   0.49148E+00\n",
      "       2.93997   0.53912E+00\n",
      "       3.85745   0.51652E+00\n",
      "       5.06126   0.43222E+00\n",
      "       6.64074   0.31591E+00\n",
      "       8.71314   0.20167E+00\n",
      "      11.43229   0.11244E+00\n",
      "      14.99999   0.54759E-01\n",
      "Parameters of lognormal SD for Particle component 2\n",
      "      rv (um):   0.30903E+01\n",
      "    ln(sigma):   0.73831E+00\n",
      "Aerosol volume concentration (um^3/um^2 or um^3/um^3)\n",
      "             1   0.48034E-01\n",
      "             2   0.22391E-01\n",
      "% of spherical particles for Particle component 1\n",
      "             1   0.99900E+02\n",
      "Wavelength (um), AOD_Total (unitless or 1/um)\n",
      "       0.34000   0.47223E+00\n",
      "       0.38000   0.39139E+00\n",
      "       0.44000   0.30686E+00\n",
      "       0.50000   0.23878E+00\n",
      "       0.67500   0.12810E+00\n",
      "       0.87000   0.74608E-01\n",
      "       1.02000   0.53780E-01\n",
      "       1.64000   0.27246E-01\n",
      "Wavelength (um), AOD_Particle_mode_1 (unitless or 1/um)\n",
      "       0.34000   0.45620E+00\n",
      "       0.38000   0.37485E+00\n",
      "       0.44000   0.29038E+00\n",
      "       0.50000   0.22174E+00\n",
      "       0.67500   0.11036E+00\n",
      "       0.87000   0.56198E-01\n",
      "       1.02000   0.35289E-01\n",
      "       1.64000   0.80232E-02\n",
      "Wavelength (um), AOD_Particle_mode_2 (unitless or 1/um)\n",
      "       0.34000   0.16028E-01\n",
      "       0.38000   0.16539E-01\n",
      "       0.44000   0.16483E-01\n",
      "       0.50000   0.17040E-01\n",
      "       0.67500   0.17737E-01\n",
      "       0.87000   0.18410E-01\n",
      "       1.02000   0.18491E-01\n",
      "       1.64000   0.19223E-01\n",
      "Wavelength (um), SSA_Total\n",
      "       0.34000   0.97637E+00\n",
      "       0.38000   0.97479E+00\n",
      "       0.44000   0.97262E+00\n",
      "       0.50000   0.96962E+00\n",
      "       0.67500   0.95998E+00\n",
      "       0.87000   0.94874E+00\n",
      "       1.02000   0.94065E+00\n",
      "       1.64000   0.93043E+00\n",
      "Wavelength (um), SSA_Particle_mode_1\n",
      "       0.34000   0.98125E+00\n",
      "       0.38000   0.98020E+00\n",
      "       0.44000   0.97873E+00\n",
      "       0.50000   0.97655E+00\n",
      "       0.67500   0.96873E+00\n",
      "       0.87000   0.95676E+00\n",
      "       1.02000   0.94453E+00\n",
      "       1.64000   0.86780E+00\n",
      "Wavelength (um), SSA_Particle_mode_2\n",
      "       0.34000   0.83736E+00\n",
      "       0.38000   0.85212E+00\n",
      "       0.44000   0.86498E+00\n",
      "       0.50000   0.87945E+00\n",
      "       0.67500   0.90553E+00\n",
      "       0.87000   0.92426E+00\n",
      "       1.02000   0.93324E+00\n",
      "       1.64000   0.95657E+00\n",
      "Wavelength (um), AAOD_Total (unitless or 1/um)\n",
      "       0.34000   0.11159E-01\n",
      "       0.38000   0.98662E-02\n",
      "       0.44000   0.84027E-02\n",
      "       0.50000   0.72536E-02\n",
      "       0.67500   0.51266E-02\n",
      "       0.87000   0.38243E-02\n",
      "       1.02000   0.31919E-02\n",
      "       1.64000   0.18955E-02\n",
      "Wavelength (um), AAOD_Particle_mode_1 (unitless or 1/um)\n",
      "       0.34000   0.85520E-02\n",
      "       0.38000   0.74205E-02\n",
      "       0.44000   0.61772E-02\n",
      "       0.50000   0.51994E-02\n",
      "       0.67500   0.34510E-02\n",
      "       0.87000   0.24300E-02\n",
      "       1.02000   0.19574E-02\n",
      "       1.64000   0.10606E-02\n",
      "Wavelength (um), AAOD_Particle_mode_2 (unitless or 1/um)\n",
      "       0.34000   0.26069E-02\n",
      "       0.38000   0.24457E-02\n",
      "       0.44000   0.22255E-02\n",
      "       0.50000   0.20542E-02\n",
      "       0.67500   0.16757E-02\n",
      "       0.87000   0.13943E-02\n",
      "       1.02000   0.12345E-02\n",
      "       1.64000   0.83488E-03\n",
      "Wavelength (um), REAL Ref. Index for Particle component 1\n",
      "       0.34000       1.40100\n",
      "       0.38000       1.40100\n",
      "       0.44000       1.40100\n",
      "       0.50000       1.40100\n",
      "       0.67500       1.40100\n",
      "       0.87000       1.40100\n",
      "       1.02000       1.40100\n",
      "       1.64000       1.40100\n",
      "Wavelength (um), IMAG Ref. Index for Particle component 1\n",
      "       0.34000   0.30000E-02\n",
      "       0.38000   0.30000E-02\n",
      "       0.44000   0.30000E-02\n",
      "       0.50000   0.30000E-02\n",
      "       0.67500   0.30000E-02\n",
      "       0.87000   0.30000E-02\n",
      "       1.02000   0.30000E-02\n",
      "       1.64000   0.30000E-02\n",
      "\n",
      "Date:             2010-01-01\n",
      "Time:               01:00:00\n",
      "Longitude:           -5.2500\n",
      "Latitude :           41.5600\n",
      "   reff total    0.19610E+00\n",
      "   reff fine     0.13780E+00\n",
      "   reff coarse   0.23326E+01\n",
      "\n",
      "*** FITTING from sdata structure ***\n",
      "------------------------------------------------------------------------\n",
      "pixel #    1   wavelength #   1     0.340 (um)\n",
      "------------------------------------------------------------------------\n",
      "       meas_aod        fit_aod\n",
      "    0.47223E+00    0.47223E+00\n",
      "------------------------------------------------------------------------\n",
      "pixel #    1   wavelength #   2     0.380 (um)\n",
      "------------------------------------------------------------------------\n",
      "       meas_aod        fit_aod\n",
      "    0.39139E+00    0.39139E+00\n",
      "------------------------------------------------------------------------\n",
      "pixel #    1   wavelength #   3     0.440 (um)\n",
      "------------------------------------------------------------------------\n",
      "       meas_aod        fit_aod\n",
      "    0.30686E+00    0.30686E+00\n",
      "------------------------------------------------------------------------\n",
      "pixel #    1   wavelength #   4     0.500 (um)\n",
      "------------------------------------------------------------------------\n",
      "       meas_aod        fit_aod\n",
      "    0.23878E+00    0.23878E+00\n",
      "------------------------------------------------------------------------\n",
      "pixel #    1   wavelength #   5     0.675 (um)\n",
      "------------------------------------------------------------------------\n",
      "       meas_aod        fit_aod\n",
      "    0.12810E+00    0.12810E+00\n",
      "------------------------------------------------------------------------\n",
      "pixel #    1   wavelength #   6     0.870 (um)\n",
      "------------------------------------------------------------------------\n",
      "       meas_aod        fit_aod\n",
      "    0.74609E-01    0.74608E-01\n",
      "------------------------------------------------------------------------\n",
      "pixel #    1   wavelength #   7     1.020 (um)\n",
      "------------------------------------------------------------------------\n",
      "       meas_aod        fit_aod\n",
      "    0.53780E-01    0.53780E-01\n",
      "------------------------------------------------------------------------\n",
      "pixel #    1   wavelength #   8     1.640 (um)\n",
      "------------------------------------------------------------------------\n",
      "       meas_aod        fit_aod\n",
      "    0.27246E-01    0.27246E-01\n",
      "Total Time: 1 pixels processed in 0.906180 seconds (cpu time: 0.955671). Average per pixel: 0.906180 (cpu time: 0.955671)\n",
      "Algorithm Time: 1 pixels processed in 0.394932 seconds (cpu time: 0.427085). Average per pixel: 0.394932 (cpu time: 0.427085)\n",
      "Control Unit Time: 1 pixels processed in 0.511248 seconds (cpu time: 0.528586). Average per pixel: 0.511248 (cpu time: 0.479095)\n"
     ]
    }
   ],
   "source": [
    "#Ejecutar grasp y sacar por pantalla\n",
    "results = pygrasp.run(\"settings/settings_aod.yml\",print_screen=True)"
   ]
  },
  {
   "cell_type": "code",
   "execution_count": 31,
   "metadata": {
    "execution": {
     "iopub.execute_input": "2024-12-14T15:39:19.524595Z",
     "iopub.status.busy": "2024-12-14T15:39:19.523762Z",
     "iopub.status.idle": "2024-12-14T15:39:19.570325Z",
     "shell.execute_reply": "2024-12-14T15:39:19.569106Z",
     "shell.execute_reply.started": "2024-12-14T15:39:19.524540Z"
    }
   },
   "outputs": [
    {
     "name": "stdout",
     "output_type": "stream",
     "text": [
      "The following options are accepted matching with \"noises\":\n",
      "  retrieval.inversion.noises.add_random_noise: Add random noise to measurements. Valid values: disable (standard_deviation_synthetic is ignored), measurement_fitting (random noise with standard_deviation_synthetic is added to the vector of fitted measurements but it is not added to the fitting), sdata (random noise with standard_deviation_synthetic is added to the fitting sdata measurements so one can get an sdata file with noise added retrieval.mode=forward). If retrieval.mode=inversion, random noise is added to the input sdata measurements.\n",
      "  retrieval.inversion.noises.noise[].standard_deviation_synthetic: Standard deviation of synthetic random noise added to the corresponding inverted data, if value is 0 no synthetic random noise is added\n",
      "  retrieval.inversion.noises.noise[].bias_measurements_synthetic: Bias added to the synthetic measurements, if value is 0 no bias is added\n",
      "  retrieval.inversion.noises.noise[].bias_equation: Bias added to the systematic component of error, if value is 0 no bias is added\n",
      "  retrieval.inversion.noises.noise[].error_type: Error type used for definition of covariance matrices used in measurement fitting and in modeling synthetic noise\n",
      "  retrieval.inversion.noises.noise[].standard_deviation: Standard deviation of the random noise expected (this defines the covariance matrix used in fitting)\n",
      "  retrieval.inversion.noises.noise[].measurement_type[].type: Type of relevant measurements for applying the noise assumptions\n",
      "  retrieval.inversion.noises.noise[].measurement_type[].index_of_wavelength_involved: List of indices of relevant wavelengths for applying the noise assumptions\n",
      "8 parameter(s) found\n",
      "\n"
     ]
    }
   ],
   "source": [
    "#Para ejecutar el comando ayuda\n",
    "comando=os.popen('grasp help=\"noises\"')\n",
    "output = comando.read()\n",
    "print(output)"
   ]
  },
  {
   "cell_type": "code",
   "execution_count": 32,
   "metadata": {
    "execution": {
     "iopub.execute_input": "2024-12-14T15:39:19.572268Z",
     "iopub.status.busy": "2024-12-14T15:39:19.571850Z",
     "iopub.status.idle": "2024-12-14T15:39:20.571355Z",
     "shell.execute_reply": "2024-12-14T15:39:20.570049Z",
     "shell.execute_reply.started": "2024-12-14T15:39:19.572187Z"
    }
   },
   "outputs": [
    {
     "name": "stdout",
     "output_type": "stream",
     "text": [
      "INFO: Parameter retrieval.mode overwritten by command line\n",
      "INFO: Parameter retrieval.mode overwritten by command line\n",
      "Config file read successfully\n",
      "The tile is divided in segments with 1 rows, 1 cols and 1 times. 1 inversions will be performed (sequential version)\n",
      "Retrieval #0 (1/1): 100.00%: 1 pixels will be processed\n",
      "in set_RIN_retr_par_number:\n",
      "    KNSING  = 23 - number of parameters driving forward model for each pixel\n",
      "    KNSINGF = 6 - number of retrieved parameters for each pixel\n",
      "in set_RIN_RT_OSH_flags_surf:\n",
      "    isurf_land(1), isurf_land(2), isurf_water:\n",
      "     -999    -999    -999\n",
      "in inversion:\n",
      "    npixels = 1\n",
      "    nsd = 2\n",
      "    lm_min =  0.0000E+00\n",
      "    ccor_min =  0.0000E+00\n",
      "    ccor_max =  1.0000E+02\n",
      "wavelengths(um):\n",
      "   0.34000   0.38000   0.44000   0.50000   0.67500   0.87000   1.02000   1.64000\n",
      "WARNING: standard_deviation_synthetic = 0. No random noise is added.\n",
      "in assign_noise_index:\n",
      "    pixel # 1   MNOISE:\n",
      "   1   1   1   1   1   1   1   1\n",
      "\n",
      " 190.57249    1:   0.22680E+00      156.72447 %      pixel # 1      Residual using INITIAL GUESS\n",
      "Solver SUPERLU system solving CPU_time(sec) =         0.00000\n",
      "\n",
      "Retrieval #0 (1/1): 100.00%: 1 pixels processed in 0.128289 seconds (cpu time: 0.139645). Average per pixel: 0.128289 (cpu time: 0.139645)\n",
      "Retrieval #0 (1/1): 100.00%: finished\n",
      "\n",
      "Detailed residuals after final iteration\n",
      "            noise          abs            rel\n",
      " 190.57249    1:   0.22680E+00      156.72447 %      pixel # 1      Residual after iteration # 0\n",
      "\n",
      "Date:             2010-01-01\n",
      "Time:               01:00:00\n",
      "Longitude:           -5.2500\n",
      "Latitude :           41.5600\n",
      "Parameter #, Vector of retrieved parameters\n",
      "             1   0.14500E+00\n",
      "             2   0.40000E+00\n",
      "             3   0.31540E+01\n",
      "             4   0.70000E+00\n",
      "             5   0.70000E-02\n",
      "             6   0.10000E-02\n",
      "             7   0.14010E+01\n",
      "             8   0.14010E+01\n",
      "             9   0.14010E+01\n",
      "            10   0.14010E+01\n",
      "            11   0.14010E+01\n",
      "            12   0.14010E+01\n",
      "            13   0.14010E+01\n",
      "            14   0.14010E+01\n",
      "            15   0.30000E-02\n",
      "            16   0.30000E-02\n",
      "            17   0.30000E-02\n",
      "            18   0.30000E-02\n",
      "            19   0.30000E-02\n",
      "            20   0.30000E-02\n",
      "            21   0.30000E-02\n",
      "            22   0.30000E-02\n",
      "            23   0.99900E+00\n",
      "\n",
      "*** DETAILED PARAMETERS ***\n",
      "Date:             2010-01-01\n",
      "Time:               01:00:00\n",
      "Longitude:           -5.2500\n",
      "Latitude :           41.5600\n",
      "Radius (um), Size Distribution dV/dlnr (normalized by particle volume concentration) for Particle component 1\n",
      "       0.05000   0.28864E-01\n",
      "       0.06560   0.13969E+00\n",
      "       0.08608   0.42634E+00\n",
      "       0.11294   0.82055E+00\n",
      "       0.14818   0.99589E+00\n",
      "       0.19443   0.76221E+00\n",
      "       0.25510   0.36787E+00\n",
      "       0.33472   0.11196E+00\n",
      "       0.43917   0.21489E-01\n",
      "       0.57623   0.26009E-02\n",
      "       0.75605   0.19851E-03\n",
      "       0.99200   0.95546E-05\n",
      "       1.30157   0.29000E-06\n",
      "       1.70776   0.55505E-08\n",
      "       2.24070   0.66994E-10\n",
      "       2.93997   0.50991E-12\n",
      "       3.85745   0.24475E-14\n",
      "       5.06126   0.74079E-17\n",
      "       6.64074   0.14140E-19\n",
      "       8.71314   0.17019E-22\n",
      "      11.43229   0.12918E-25\n",
      "      14.99999   0.61832E-29\n",
      "Parameters of lognormal SD for Particle component 1\n",
      "      rv (um):   0.14500E+00\n",
      "    ln(sigma):   0.40000E+00\n",
      "Radius (um), Size Distribution dV/dlnr (normalized by particle volume concentration) for Particle component 2\n",
      "       0.05000   0.13935E-07\n",
      "       0.06560   0.12856E-06\n",
      "       0.08608   0.10202E-05\n",
      "       0.11294   0.69651E-05\n",
      "       0.14818   0.40904E-04\n",
      "       0.19443   0.20664E-03\n",
      "       0.25510   0.89803E-03\n",
      "       0.33472   0.33572E-02\n",
      "       0.43917   0.10796E-01\n",
      "       0.57623   0.29867E-01\n",
      "       0.75605   0.71077E-01\n",
      "       0.99200   0.14551E+00\n",
      "       1.30157   0.25624E+00\n",
      "       1.70776   0.38817E+00\n",
      "       2.24070   0.50584E+00\n",
      "       2.93997   0.56705E+00\n",
      "       3.85745   0.54682E+00\n",
      "       5.06126   0.45362E+00\n",
      "       6.64074   0.32370E+00\n",
      "       8.71314   0.19871E+00\n",
      "      11.43229   0.10493E+00\n",
      "      14.99999   0.47665E-01\n",
      "Parameters of lognormal SD for Particle component 2\n",
      "      rv (um):   0.31540E+01\n",
      "    ln(sigma):   0.70000E+00\n",
      "Aerosol volume concentration (um^3/um^2 or um^3/um^3)\n",
      "             1   0.70000E-02\n",
      "             2   0.10000E-02\n",
      "% of spherical particles for Particle component 1\n",
      "             1   0.99900E+02\n",
      "Wavelength (um), AOD_Total (unitless or 1/um)\n",
      "       0.34000   0.65740E-01\n",
      "       0.38000   0.54107E-01\n",
      "       0.44000   0.42012E-01\n",
      "       0.50000   0.32270E-01\n",
      "       0.67500   0.16473E-01\n",
      "       0.87000   0.88060E-02\n",
      "       1.02000   0.58356E-02\n",
      "       1.64000   0.19892E-02\n",
      "Wavelength (um), AOD_Particle_mode_1 (unitless or 1/um)\n",
      "       0.34000   0.65063E-01\n",
      "       0.38000   0.53410E-01\n",
      "       0.44000   0.41317E-01\n",
      "       0.50000   0.31553E-01\n",
      "       0.67500   0.15728E-01\n",
      "       0.87000   0.80309E-02\n",
      "       1.02000   0.50550E-02\n",
      "       1.64000   0.11593E-02\n",
      "Wavelength (um), AOD_Particle_mode_2 (unitless or 1/um)\n",
      "       0.34000   0.67690E-03\n",
      "       0.38000   0.69750E-03\n",
      "       0.44000   0.69433E-03\n",
      "       0.50000   0.71678E-03\n",
      "       0.67500   0.74509E-03\n",
      "       0.87000   0.77515E-03\n",
      "       1.02000   0.78056E-03\n",
      "       1.64000   0.82988E-03\n",
      "Wavelength (um), SSA_Total\n",
      "       0.34000   0.97941E+00\n",
      "       0.38000   0.97816E+00\n",
      "       0.44000   0.97640E+00\n",
      "       0.50000   0.97388E+00\n",
      "       0.67500   0.96517E+00\n",
      "       0.87000   0.95296E+00\n",
      "       1.02000   0.94191E+00\n",
      "       1.64000   0.90369E+00\n",
      "Wavelength (um), SSA_Particle_mode_1\n",
      "       0.34000   0.98097E+00\n",
      "       0.38000   0.97990E+00\n",
      "       0.44000   0.97839E+00\n",
      "       0.50000   0.97618E+00\n",
      "       0.67500   0.96826E+00\n",
      "       0.87000   0.95616E+00\n",
      "       1.02000   0.94385E+00\n",
      "       1.64000   0.86705E+00\n",
      "Wavelength (um), SSA_Particle_mode_2\n",
      "       0.34000   0.82939E+00\n",
      "       0.38000   0.84456E+00\n",
      "       0.44000   0.85780E+00\n",
      "       0.50000   0.87274E+00\n",
      "       0.67500   0.89990E+00\n",
      "       0.87000   0.91976E+00\n",
      "       1.02000   0.92935E+00\n",
      "       1.64000   0.95487E+00\n",
      "Wavelength (um), AAOD_Total (unitless or 1/um)\n",
      "       0.34000   0.13534E-02\n",
      "       0.38000   0.11819E-02\n",
      "       0.44000   0.99168E-03\n",
      "       0.50000   0.84279E-03\n",
      "       0.67500   0.57381E-03\n",
      "       0.87000   0.41425E-03\n",
      "       1.02000   0.33900E-03\n",
      "       1.64000   0.19158E-03\n",
      "Wavelength (um), AAOD_Particle_mode_1 (unitless or 1/um)\n",
      "       0.34000   0.12379E-02\n",
      "       0.38000   0.10735E-02\n",
      "       0.44000   0.89294E-03\n",
      "       0.50000   0.75157E-03\n",
      "       0.67500   0.49923E-03\n",
      "       0.87000   0.35205E-03\n",
      "       1.02000   0.28386E-03\n",
      "       1.64000   0.15413E-03\n",
      "Wavelength (um), AAOD_Particle_mode_2 (unitless or 1/um)\n",
      "       0.34000   0.11548E-03\n",
      "       0.38000   0.10842E-03\n",
      "       0.44000   0.98734E-04\n",
      "       0.50000   0.91220E-04\n",
      "       0.67500   0.74581E-04\n",
      "       0.87000   0.62198E-04\n",
      "       1.02000   0.55143E-04\n",
      "       1.64000   0.37449E-04\n",
      "Wavelength (um), REAL Ref. Index for Particle component 1\n",
      "       0.34000       1.40100\n",
      "       0.38000       1.40100\n",
      "       0.44000       1.40100\n",
      "       0.50000       1.40100\n",
      "       0.67500       1.40100\n",
      "       0.87000       1.40100\n",
      "       1.02000       1.40100\n",
      "       1.64000       1.40100\n",
      "Wavelength (um), IMAG Ref. Index for Particle component 1\n",
      "       0.34000   0.30000E-02\n",
      "       0.38000   0.30000E-02\n",
      "       0.44000   0.30000E-02\n",
      "       0.50000   0.30000E-02\n",
      "       0.67500   0.30000E-02\n",
      "       0.87000   0.30000E-02\n",
      "       1.02000   0.30000E-02\n",
      "       1.64000   0.30000E-02\n",
      "\n",
      "Date:             2010-01-01\n",
      "Time:               01:00:00\n",
      "Longitude:           -5.2500\n",
      "Latitude :           41.5600\n",
      "   reff total    0.15211E+00\n",
      "   reff fine     0.13424E+00\n",
      "   reff coarse   0.24524E+01\n",
      "\n",
      "*** FITTING from sdata structure ***\n",
      "------------------------------------------------------------------------\n",
      "pixel #    1   wavelength #   1     0.340 (um)\n",
      "------------------------------------------------------------------------\n",
      "       meas_aod        fit_aod\n",
      "    0.47223E+00    0.65740E-01\n",
      "------------------------------------------------------------------------\n",
      "pixel #    1   wavelength #   2     0.380 (um)\n",
      "------------------------------------------------------------------------\n",
      "       meas_aod        fit_aod\n",
      "    0.39139E+00    0.54107E-01\n",
      "------------------------------------------------------------------------\n",
      "pixel #    1   wavelength #   3     0.440 (um)\n",
      "------------------------------------------------------------------------\n",
      "       meas_aod        fit_aod\n",
      "    0.30686E+00    0.42012E-01\n",
      "------------------------------------------------------------------------\n",
      "pixel #    1   wavelength #   4     0.500 (um)\n",
      "------------------------------------------------------------------------\n",
      "       meas_aod        fit_aod\n",
      "    0.23878E+00    0.32270E-01\n",
      "------------------------------------------------------------------------\n",
      "pixel #    1   wavelength #   5     0.675 (um)\n",
      "------------------------------------------------------------------------\n",
      "       meas_aod        fit_aod\n",
      "    0.12810E+00    0.16473E-01\n",
      "------------------------------------------------------------------------\n",
      "pixel #    1   wavelength #   6     0.870 (um)\n",
      "------------------------------------------------------------------------\n",
      "       meas_aod        fit_aod\n",
      "    0.74609E-01    0.88060E-02\n",
      "------------------------------------------------------------------------\n",
      "pixel #    1   wavelength #   7     1.020 (um)\n",
      "------------------------------------------------------------------------\n",
      "       meas_aod        fit_aod\n",
      "    0.53780E-01    0.58356E-02\n",
      "------------------------------------------------------------------------\n",
      "pixel #    1   wavelength #   8     1.640 (um)\n",
      "------------------------------------------------------------------------\n",
      "       meas_aod        fit_aod\n",
      "    0.27246E-01    0.19892E-02\n",
      "Total Time: 1 pixels processed in 0.632145 seconds (cpu time: 0.657870). Average per pixel: 0.632145 (cpu time: 0.657870)\n",
      "Algorithm Time: 1 pixels processed in 0.128289 seconds (cpu time: 0.139645). Average per pixel: 0.128289 (cpu time: 0.139645)\n",
      "Control Unit Time: 1 pixels processed in 0.503856 seconds (cpu time: 0.518225). Average per pixel: 0.503856 (cpu time: 0.492500)\n"
     ]
    }
   ],
   "source": [
    "#Cambiar parametros de los settings al llamar a GRASP\n",
    "results = pygrasp.run(\"settings/settings_aod.yml\",\n",
    "                      args=['retrieval.mode=forward'],print_screen=True)"
   ]
  },
  {
   "cell_type": "code",
   "execution_count": 33,
   "metadata": {
    "execution": {
     "iopub.execute_input": "2024-12-14T15:39:20.575155Z",
     "iopub.status.busy": "2024-12-14T15:39:20.574584Z",
     "iopub.status.idle": "2024-12-14T15:39:20.591467Z",
     "shell.execute_reply": "2024-12-14T15:39:20.590245Z",
     "shell.execute_reply.started": "2024-12-14T15:39:20.575115Z"
    }
   },
   "outputs": [
    {
     "name": "stdout",
     "output_type": "stream",
     "text": [
      "pixel_result_t[time=1, x=1, y=1]\n",
      "\n",
      "pixel_result_t\n",
      "  - information: grasp_output_tile_pixel_information\n",
      "  - retrieval_res: *grasp_output_tile_retrieval_res\n",
      "  - retrieval_par: *grasp_output_tile_retrieval_par\n",
      "  - pixel_fit: *pixel_t\n",
      "  - pixel_original: *pixel_t\n",
      "  - aerosol_opt: *grasp_output_tile_aerosol_opt\n",
      "  - aerosol_rind: *grasp_output_tile_aerosol_rind\n",
      "  - aerosol_phmx: *grasp_output_tile_aerosol_phmx\n",
      "  - aerosol_lidar: *grasp_output_tile_aerosol_lidar\n",
      "  - aerosol_sd2m_mph: *grasp_output_tile_aerosol_sd2m_mph\n",
      "  - aerosol_sd2m_ext: *grasp_output_tile_aerosol_sd2m_ext\n",
      "  - aerosol_chem: *grasp_output_tile_aerosol_chem\n",
      "  - aerosol_pm: *grasp_output_tile_aerosol_pm\n",
      "  - aerosol_types: *grasp_output_tile_aerosol_types\n",
      "  - surface_surf: *grasp_output_tile_surface_surf\n",
      "  - errest_par: *grasp_output_tile_errest_par\n",
      "  - errest_aerosol_opt: *grasp_output_tile_errest_aerosol_opt\n",
      "  - errest_aerosol_lidar: *grasp_output_tile_errest_aerosol_lidar\n",
      "  - errest_aerosol_mic: *grasp_output_tile_errest_aerosol_mic\n",
      "  - errest_aerosol_sd2m_extfc: *grasp_output_tile_errest_aerosol_sd2m_extfc\n",
      "  - forcing_bbflux: *grasp_output_tile_forcing_bbflux\n",
      "  - forcing_forcing: *grasp_output_tile_forcing_forcing\n",
      "  - gases: *grasp_output_tile_gases\n",
      "  - retrieved:\n",
      "      - size_distribution_lognormal[time, y, x, size_distribution_lognormal_dim, size_distribution_lognormal_mode]\n",
      "      - aerosol_concentration[time, y, x, aerosol_concentration_dim, aerosol_concentration_mode]\n",
      "      - real_part_of_refractive_index_spectral_dependent[time, y, x, wl, rind_mode]\n",
      "      - imaginary_part_of_refractive_index_spectral_dependent[time, y, x, wl, rind_mode]\n",
      "      - sphere_fraction[time, y, x, sphere_fraction_dim, sphere_fraction_mode]\n",
      "\n",
      "[1.4009998 1.4009998 1.4009998 1.4009998 1.4009998 1.4009998 1.4009998\n",
      " 1.4009998]\n"
     ]
    }
   ],
   "source": [
    "#imprimir resultados\n",
    "print(results[0,0,0]) #aqui se encuentra una lista de parametros\n",
    "#Para el caso del indice real de refrraccion:\n",
    "print(results[0,0,0].retrieved.real_part_of_refractive_index_spectral_dependent[0,0,0,:,0].values)"
   ]
  },
  {
   "cell_type": "code",
   "execution_count": 34,
   "metadata": {
    "execution": {
     "iopub.execute_input": "2024-12-14T15:39:20.593293Z",
     "iopub.status.busy": "2024-12-14T15:39:20.592917Z",
     "iopub.status.idle": "2024-12-14T15:40:11.478874Z",
     "shell.execute_reply": "2024-12-14T15:40:11.477520Z",
     "shell.execute_reply.started": "2024-12-14T15:39:20.593256Z"
    }
   },
   "outputs": [
    {
     "name": "stdout",
     "output_type": "stream",
     "text": [
      "/workspace/master/settings/../sdatas/example_sunphotometer.sdat\n"
     ]
    }
   ],
   "source": [
    "#Crear objeto Settings y modifcarlo y ejecutarlo\n",
    "settings = pygrasp.Settings.load(\"settings/settings_example_sunphotometer_inversion.yml\")\n",
    "settings.retrieval.mode = \"inversion\"\n",
    "results = pygrasp.run(settings,print_screen=False)\n",
    "#imprimir\n",
    "print(settings.input.file)"
   ]
  },
  {
   "cell_type": "code",
   "execution_count": 35,
   "metadata": {
    "execution": {
     "iopub.execute_input": "2024-12-14T15:40:11.481184Z",
     "iopub.status.busy": "2024-12-14T15:40:11.480743Z",
     "iopub.status.idle": "2024-12-14T15:41:05.097945Z",
     "shell.execute_reply": "2024-12-14T15:41:05.096907Z",
     "shell.execute_reply.started": "2024-12-14T15:40:11.481147Z"
    }
   },
   "outputs": [
    {
     "name": "stdout",
     "output_type": "stream",
     "text": [
      "26\n",
      "Radiancia 440 nm\n",
      "[0.7577930688858032, 0.6847407221794128, 0.5850415229797363, 0.5244524478912354, 0.4859144687652588, 0.460252970457077, 0.42901182174682617, 0.4100485146045685, 0.39597487449645996, 0.383880078792572, 0.3725516200065613, 0.3615611791610718, 0.3347862660884857, 0.30893683433532715, 0.2845064401626587, 0.2619626522064209, 0.24152974784374237, 0.2232358455657959, 0.19267047941684723, 0.1690889596939087, 0.1511658877134323, 0.13783319294452667, 0.12823015451431274, 0.11740301549434662, 0.11377870291471481, 0.11352920532226562]\n",
      "AOD 870 nm\n",
      "0.24578000605106354\n",
      "[[[[[1.4506705]\n",
      "    [1.4501868]\n",
      "    [1.4502404]\n",
      "    [1.4500917]]]]]\n",
      "[0.9971805  0.46521047 0.30512843 0.24578685]\n",
      "Convergencia\n",
      "0.055783294374123216\n"
     ]
    }
   ],
   "source": [
    "#Crear objeto sdata, leerle y ejecutarlo\n",
    "sdata = pygrasp.SDATA(\"sdatas/example_sunphotometer.sdat\")\n",
    "NBVM=sdata.pixel[0].meas[0].nbvm[1]\n",
    "print(NBVM)\n",
    "print(\"Radiancia 440 nm\")\n",
    "print(sdata.pixel[0].meas[0].i[:NBVM])\n",
    "print(\"AOD 870 nm\")\n",
    "print(sdata.pixel[0].meas[3].aod[0])\n",
    "\n",
    "results = pygrasp.run(settings, sdata=sdata,print_screen=False)  \n",
    "print(results[0,0,0].retrieved.real_part_of_refractive_index_spectral_dependent.values)\n",
    "print(results[0,0,0].aerosol_opt.ext[:,:].values)\n",
    "print(\"Convergencia\")\n",
    "print(100*results[0,0,0].retrieval_res.resr[0].values)"
   ]
  },
  {
   "cell_type": "code",
   "execution_count": 36,
   "metadata": {
    "execution": {
     "iopub.execute_input": "2024-12-14T15:41:05.100235Z",
     "iopub.status.busy": "2024-12-14T15:41:05.099672Z",
     "iopub.status.idle": "2024-12-14T15:41:52.412230Z",
     "shell.execute_reply": "2024-12-14T15:41:52.410897Z",
     "shell.execute_reply.started": "2024-12-14T15:41:05.100172Z"
    }
   },
   "outputs": [
    {
     "name": "stdout",
     "output_type": "stream",
     "text": [
      "El AOD a 1020 nm ahora es:\n",
      "0.5\n",
      "[[[[[1.3300002]\n",
      "    [1.3300002]\n",
      "    [1.3300002]\n",
      "    [1.6000001]]]]]\n",
      "[1.0237603  0.48526415 0.3281103  0.4714381 ]\n",
      "Convergencia\n",
      "17.80788004398346\n"
     ]
    }
   ],
   "source": [
    "#Modifico el sdata y ejecuto\n",
    "#El aod a 1020 se pone 0.5\n",
    "sdata.pixel[0].meas[3].aod[0] = 0.5\n",
    "print(\"El AOD a 1020 nm ahora es:\")\n",
    "print(sdata.pixel[0].meas[3].aod[0])\n",
    "\n",
    "results2 = pygrasp.run(settings, sdata=sdata) \n",
    "\n",
    "#imprimir\n",
    "print(results2[0,0,0].retrieved.real_part_of_refractive_index_spectral_dependent.values)\n",
    "print(results2[0,0,0].aerosol_opt.ext[:,:].values)\n",
    "print(\"Convergencia\")\n",
    "print(100*results2[0,0,0].retrieval_res.resr[0].values)"
   ]
  },
  {
   "cell_type": "code",
   "execution_count": 37,
   "metadata": {
    "execution": {
     "iopub.execute_input": "2024-12-14T15:41:52.414112Z",
     "iopub.status.busy": "2024-12-14T15:41:52.413800Z",
     "iopub.status.idle": "2024-12-14T15:41:52.856233Z",
     "shell.execute_reply": "2024-12-14T15:41:52.855134Z",
     "shell.execute_reply.started": "2024-12-14T15:41:52.414082Z"
    }
   },
   "outputs": [
    {
     "name": "stdout",
     "output_type": "stream",
     "text": [
      "# Example of retrieval of synthetic sunphotometer (TOD and radiances) observations (single pixel)\n",
      "# Authors A.Lopatin & Q.Hu\n",
      "# Last changes by A. Lopatin on 2016/09/11\n",
      "\n",
      "# Other comments:\n",
      "#   monomodal triangular bins size distribution\n",
      "#   monomodal spectral dependent refractive index\n",
      "#   exponential aerosol vertical profile with fixed scale altitude of 2000m\n",
      "\n"
     ]
    }
   ],
   "source": [
    "#modificar settings y crear un fichero nuevo\n",
    "settings = pygrasp.Settings.load(\"settings/settings_example_sunphotometer_inversion.yml\")\n",
    "settings.retrieval.mode = \"forward\"\n",
    "settings.input.file = \"sdatas/example_sunphotometer.sdat\"\n",
    "file_name = \"settings/settingsSPclon.yml\"\n",
    "settings.dump(file_name)\n",
    "\n",
    "\n",
    "# Escribir las primeras lineas para asegurarse\n",
    "def peek_file(file_name: str, line_nums: range):\n",
    "    with open(file_name, \"r\") as file:\n",
    "        lines = file.readlines()\n",
    "        selected = lines[line_nums.start:line_nums.stop]\n",
    "        print(\"\".join(selected))\n",
    "\n",
    "peek_file(file_name, range(0, 8))"
   ]
  },
  {
   "cell_type": "code",
   "execution_count": 38,
   "metadata": {
    "execution": {
     "iopub.execute_input": "2024-12-14T15:41:52.857978Z",
     "iopub.status.busy": "2024-12-14T15:41:52.857550Z",
     "iopub.status.idle": "2024-12-14T15:42:03.072787Z",
     "shell.execute_reply": "2024-12-14T15:42:03.071412Z",
     "shell.execute_reply.started": "2024-12-14T15:41:52.857935Z"
    }
   },
   "outputs": [
    {
     "name": "stdout",
     "output_type": "stream",
     "text": [
      "Iterations:  [0, 1, 2, 3, 4, 5, 6, 7, 8, 9]\n",
      "0\n",
      "Retrieval 1/10 finished with number of iterations: 0\n",
      "1\n",
      "Retrieval 2/10 finished with number of iterations: 1\n",
      "2\n",
      "Retrieval 3/10 finished with number of iterations: 2\n",
      "3\n",
      "Retrieval 4/10 finished with number of iterations: 3\n",
      "4\n",
      "Retrieval 5/10 finished with number of iterations: 4\n",
      "5\n",
      "Retrieval 6/10 finished with number of iterations: 5\n",
      "6\n",
      "Retrieval 7/10 finished with number of iterations: 6\n",
      "7\n",
      "Retrieval 8/10 finished with number of iterations: 7\n",
      "8\n",
      "Retrieval 9/10 finished with number of iterations: 8\n",
      "9\n",
      "Retrieval 10/10 finished with number of iterations: 9\n"
     ]
    }
   ],
   "source": [
    "#Realizar un bucle en el que las iteraciones hacen una inversion diferente y se almacena n results\n",
    "settings=pygrasp.Settings.load(\"settings/settings_aod.yml\")\n",
    "number_of_iterations = range(0, 10)\n",
    "print(\"Iterations: \", list(number_of_iterations))\n",
    "# invertir para cada iteracion:\n",
    "results = []\n",
    "for i, ni in enumerate(number_of_iterations):\n",
    "    settings.retrieval.inversion.convergence.maximum_iterations_for_stopping = ni\n",
    "    results.append(pygrasp.run(settings, print_screen=False))\n",
    "    print(ni)\n",
    "    print(f\"Retrieval {i + 1}/{len(number_of_iterations)} finished with number of iterations: {ni}\")\n"
   ]
  },
  {
   "cell_type": "code",
   "execution_count": 39,
   "metadata": {
    "execution": {
     "iopub.execute_input": "2024-12-14T15:42:03.079823Z",
     "iopub.status.busy": "2024-12-14T15:42:03.079170Z",
     "iopub.status.idle": "2024-12-14T15:42:03.464494Z",
     "shell.execute_reply": "2024-12-14T15:42:03.463336Z",
     "shell.execute_reply.started": "2024-12-14T15:42:03.079779Z"
    }
   },
   "outputs": [
    {
     "data": {
      "image/png": "[encoded data removed]",
      "text/plain": [
       "<Figure size 640x480 with 1 Axes>"
      ]
     },
     "metadata": {},
     "output_type": "display_data"
    }
   ],
   "source": [
    "#dibujar los residuos\n",
    "residual = np.array([results[i][:].retrieval_res.resr[0] for i in range(len(results))])\n",
    "plt.plot(number_of_iterations, residual*100)\n",
    "plt.title(\"Residual over number of iterations\")\n",
    "plt.xlabel(\"Maximum number of iterations\")\n",
    "plt.ylabel(\"Residual\")\n",
    "plt.show();\n"
   ]
  },
  {
   "cell_type": "code",
   "execution_count": 40,
   "metadata": {
    "execution": {
     "iopub.execute_input": "2024-12-14T15:42:03.466431Z",
     "iopub.status.busy": "2024-12-14T15:42:03.466025Z",
     "iopub.status.idle": "2024-12-14T15:42:03.819775Z",
     "shell.execute_reply": "2024-12-14T15:42:03.818630Z",
     "shell.execute_reply.started": "2024-12-14T15:42:03.466394Z"
    }
   },
   "outputs": [
    {
     "data": {
      "image/png": "[encoded data removed]",
      "text/plain": [
       "<Figure size 640x480 with 1 Axes>"
      ]
     },
     "metadata": {},
     "output_type": "display_data"
    }
   ],
   "source": [
    "#dibujar las concentraciones\n",
    "concentracion_aero = np.array([results[i][:].retrieved.aerosol_concentration[0,0,0,0] for i in range(len(results))])\n",
    "plt.plot(number_of_iterations, concentracion_aero)\n",
    "plt.title(\"Aerosol Concentration over number of iterations\")\n",
    "plt.xlabel(\"Maximum number of iterations\")\n",
    "plt.ylabel(\"Aerosol concentration (um^3/um^2)\")\n",
    "plt.show();"
   ]
  },
  {
   "cell_type": "code",
   "execution_count": 41,
   "metadata": {
    "execution": {
     "iopub.execute_input": "2024-12-14T15:42:03.821826Z",
     "iopub.status.busy": "2024-12-14T15:42:03.821348Z",
     "iopub.status.idle": "2024-12-14T15:42:05.050236Z",
     "shell.execute_reply": "2024-12-14T15:42:05.049008Z",
     "shell.execute_reply.started": "2024-12-14T15:42:03.821788Z"
    }
   },
   "outputs": [
    {
     "name": "stdout",
     "output_type": "stream",
     "text": [
      "True\n"
     ]
    }
   ],
   "source": [
    "#Escribir los resultados\n",
    "#settings = pygrasp.Settings(\"settings/settings_example_sunphotometer_inversion.yml\")\n",
    "#settings.input.file = \"sdatas/example_sunphotometer.sdat\"\n",
    "#settings.output.segment.stream = \"output/output_sp.txt\"\n",
    "\n",
    "settings = pygrasp.Settings.load(\"settings/settings_aod.yml\")\n",
    "\n",
    "settings.retrieval.mode = \"inversion\"\n",
    "settings.input.file = \"sdatas/example_aod.sdat\"\n",
    "settings.output.segment.stream = \"output/output_aod.txt\"\n",
    "\n",
    "results=pygrasp.run(settings, print_screen=False)\n",
    "print(results.products.aerosol.opt)"
   ]
  },
  {
   "cell_type": "code",
   "execution_count": 42,
   "metadata": {
    "execution": {
     "iopub.execute_input": "2024-12-14T15:42:05.052295Z",
     "iopub.status.busy": "2024-12-14T15:42:05.051793Z",
     "iopub.status.idle": "2024-12-14T15:42:05.063020Z",
     "shell.execute_reply": "2024-12-14T15:42:05.061839Z",
     "shell.execute_reply.started": "2024-12-14T15:42:05.052258Z"
    }
   },
   "outputs": [
    {
     "name": "stdout",
     "output_type": "stream",
     "text": [
      "pixel_result_t[time=1, x=1, y=1]\n",
      "\n",
      "pixel_result_t\n",
      "  - information: grasp_output_tile_pixel_information\n",
      "  - retrieval_res: *grasp_output_tile_retrieval_res\n",
      "  - retrieval_par: *grasp_output_tile_retrieval_par\n",
      "  - pixel_fit: *pixel_t\n",
      "  - pixel_original: *pixel_t\n",
      "  - aerosol_opt: *grasp_output_tile_aerosol_opt\n",
      "  - aerosol_rind: *grasp_output_tile_aerosol_rind\n",
      "  - aerosol_phmx: *grasp_output_tile_aerosol_phmx\n",
      "  - aerosol_lidar: *grasp_output_tile_aerosol_lidar\n",
      "  - aerosol_sd2m_mph: *grasp_output_tile_aerosol_sd2m_mph\n",
      "  - aerosol_sd2m_ext: *grasp_output_tile_aerosol_sd2m_ext\n",
      "  - aerosol_chem: *grasp_output_tile_aerosol_chem\n",
      "  - aerosol_pm: *grasp_output_tile_aerosol_pm\n",
      "  - aerosol_types: *grasp_output_tile_aerosol_types\n",
      "  - surface_surf: *grasp_output_tile_surface_surf\n",
      "  - errest_par: *grasp_output_tile_errest_par\n",
      "  - errest_aerosol_opt: *grasp_output_tile_errest_aerosol_opt\n",
      "  - errest_aerosol_lidar: *grasp_output_tile_errest_aerosol_lidar\n",
      "  - errest_aerosol_mic: *grasp_output_tile_errest_aerosol_mic\n",
      "  - errest_aerosol_sd2m_extfc: *grasp_output_tile_errest_aerosol_sd2m_extfc\n",
      "  - forcing_bbflux: *grasp_output_tile_forcing_bbflux\n",
      "  - forcing_forcing: *grasp_output_tile_forcing_forcing\n",
      "  - gases: *grasp_output_tile_gases\n",
      "  - retrieved:\n",
      "      - size_distribution_lognormal[time, y, x, size_distribution_lognormal_dim, size_distribution_lognormal_mode]\n",
      "      - aerosol_concentration[time, y, x, aerosol_concentration_dim, aerosol_concentration_mode]\n",
      "      - real_part_of_refractive_index_spectral_dependent[time, y, x, wl, rind_mode]\n",
      "      - imaginary_part_of_refractive_index_spectral_dependent[time, y, x, wl, rind_mode]\n",
      "      - sphere_fraction[time, y, x, sphere_fraction_dim, sphere_fraction_mode]\n",
      "\n"
     ]
    }
   ],
   "source": [
    "print(results[0,0,0])"
   ]
  },
  {
   "cell_type": "code",
   "execution_count": 43,
   "metadata": {
    "execution": {
     "iopub.execute_input": "2024-12-14T15:42:05.065145Z",
     "iopub.status.busy": "2024-12-14T15:42:05.064733Z",
     "iopub.status.idle": "2024-12-14T15:42:05.092398Z",
     "shell.execute_reply": "2024-12-14T15:42:05.091162Z",
     "shell.execute_reply.started": "2024-12-14T15:42:05.065107Z"
    }
   },
   "outputs": [
    {
     "name": "stdout",
     "output_type": "stream",
     "text": [
      "[0.9763697  0.9747919  0.9726173  0.9696219  0.95997936 0.94874185\n",
      " 0.94064957 0.9304289 ]\n",
      "[[1.4009998 1.4009998]\n",
      " [1.4009998 1.4009998]\n",
      " [1.4009998 1.4009998]\n",
      " [1.4009998 1.4009998]\n",
      " [1.4009998 1.4009998]\n",
      " [1.4009998 1.4009998]\n",
      " [1.4009998 1.4009998]\n",
      " [1.4009998 1.4009998]]\n"
     ]
    }
   ],
   "source": [
    "#Escribir los resultados\n",
    "#pixel 1 1 1 \n",
    "print(results[:, :, :].aerosol_opt.ssat[:].values)\n",
    "print(results[:, :, :].aerosol_rind.mreal[:,:].values)"
   ]
  },
  {
   "cell_type": "code",
   "execution_count": 44,
   "metadata": {
    "execution": {
     "iopub.execute_input": "2024-12-14T15:42:05.094419Z",
     "iopub.status.busy": "2024-12-14T15:42:05.093917Z",
     "iopub.status.idle": "2024-12-14T15:42:05.849765Z",
     "shell.execute_reply": "2024-12-14T15:42:05.848480Z",
     "shell.execute_reply.started": "2024-12-14T15:42:05.094382Z"
    }
   },
   "outputs": [
    {
     "data": {
      "text/plain": [
       "([<matplotlib.axis.XTick at 0x7aeb44152b90>,\n",
       "  <matplotlib.axis.XTick at 0x7aeb44153610>,\n",
       "  <matplotlib.axis.XTick at 0x7aeb44b74550>,\n",
       "  <matplotlib.axis.XTick at 0x7aeb455513f0>,\n",
       "  <matplotlib.axis.XTick at 0x7aeb45551cc0>],\n",
       " [Text(0.05, 0, '0.05'),\n",
       "  Text(0.2, 0, '0.2'),\n",
       "  Text(1.0, 0, '1'),\n",
       "  Text(5.0, 0, '5'),\n",
       "  Text(15.0, 0, '15')])"
      ]
     },
     "execution_count": 44,
     "metadata": {},
     "output_type": "execute_result"
    },
    {
     "data": {
      "image/png": "[encoded data removed]",
      "text/plain": [
       "<Figure size 640x480 with 1 Axes>"
      ]
     },
     "metadata": {},
     "output_type": "display_data"
    }
   ],
   "source": [
    "#Dibujar la size distribution de tamaños\n",
    "#grasp.plot.feature_plots.plot_size_distribution(results[0,0, 0])\n",
    "VCF=results[0, 0, 0].retrieved.aerosol_concentration[0,0,0,0,0].values\n",
    "VCC=results[0, 0, 0].retrieved.aerosol_concentration[0,0,0,0,1].values\n",
    "\n",
    "sdT=(results[0, 0, 0].retrieval_par[0,0,0].sd[0,0:22])\n",
    "radiusT=(results[0, 0, 0].retrieval_par[0,0,0].sd[0,0:22].radius)\n",
    "sdF=(results[0, 0, 0].retrieval_par[0,0,0].sd[1,0:10])\n",
    "radiusF=(results[0, 0, 0].retrieval_par[0,0,0].sd[1,0:10].radius)\n",
    "sdC=(results[0, 0, 0].retrieval_par[0,0,0].sd[2,0:15])\n",
    "radiusC=(results[0, 0, 0].retrieval_par[0,0,0].sd[2,0:15].radius)\n",
    "plt.plot(radiusT,sdT,label='Total')\n",
    "plt.xscale('log')\n",
    "plt.ion\n",
    "plt.plot(radiusF,sdF, '-.r',label='Fino')\n",
    "plt.plot(radiusC,sdC, '-.g',label='Grueso')\n",
    "plt.xlabel(\"Radio (micras)\")\n",
    "plt.ylabel(\"Aerosol VC (um^3/um^2)\");\n",
    "plt.legend()\n",
    "tick_positions = [0.05, 0.2, 1, 5, 15]  # Posiciones en el eje x\n",
    "plt.xticks(tick_positions, labels=tick_positions)  # Usar las mismas etiquetas que las posiciones\n",
    "\n",
    "#plt.ylabel(\"Aerosol concentration (um^3/um^2)\");\n",
    "#graph_sd += [getSizeDistributionGraph(results, 'bin', ) + ['black',' - Ref. - ',8,'-','.']];\n",
    "#drawSizeDist(graph_sd)"
   ]
  },
  {
   "cell_type": "code",
   "execution_count": 45,
   "metadata": {
    "execution": {
     "iopub.execute_input": "2024-12-14T15:42:05.852073Z",
     "iopub.status.busy": "2024-12-14T15:42:05.851571Z",
     "iopub.status.idle": "2024-12-14T15:42:05.870330Z",
     "shell.execute_reply": "2024-12-14T15:42:05.869110Z",
     "shell.execute_reply.started": "2024-12-14T15:42:05.852033Z"
    }
   },
   "outputs": [
    {
     "name": "stdout",
     "output_type": "stream",
     "text": [
      "<xarray.DataArray 'size_distribution_lognormal' (time: 1, y: 1, x: 1,\n",
      "                                                 size_distribution_lognormal_dim: 2,\n",
      "                                                 size_distribution_lognormal_mode: 2)>\n",
      "array([[[[[0.14795077, 3.0902638 ],\n",
      "          [0.38070542, 0.73830765]]]]], dtype=float32)\n",
      "Coordinates:\n",
      "  * time     (time) datetime64[ns] 2010-01-01T01:00:00\n",
      "    lon      float64 -5.25\n",
      "    lat      float64 41.56\n",
      "Dimensions without coordinates: y, x, size_distribution_lognormal_dim,\n",
      "                                size_distribution_lognormal_mode\n",
      "[[[[0.14795077 3.0902638 ]]]]\n"
     ]
    }
   ],
   "source": [
    "#Imprimir radios modales\n",
    "print(results[0,0,0].retrieved.size_distribution_lognormal)\n",
    "print(results[0,0,0].retrieved.size_distribution_lognormal[:,:,:,0,:].values)"
   ]
  },
  {
   "cell_type": "code",
   "execution_count": 46,
   "metadata": {
    "execution": {
     "iopub.execute_input": "2024-12-14T15:42:05.872702Z",
     "iopub.status.busy": "2024-12-14T15:42:05.871849Z",
     "iopub.status.idle": "2024-12-14T15:42:06.041570Z",
     "shell.execute_reply": "2024-12-14T15:42:06.040391Z",
     "shell.execute_reply.started": "2024-12-14T15:42:05.872660Z"
    }
   },
   "outputs": [
    {
     "name": "stdout",
     "output_type": "stream",
     "text": [
      "INFO: Internal files directory /usr/share/grasp/kernels/ does not exist. Switching to the default directory /home/grasp/.local/share/grasp//kernels/ instead.\n"
     ]
    }
   ],
   "source": [
    "#Copio las settings de inversion lidar + fotometro \n",
    "settings = pygrasp.Settings.load(\"/workspace/welcome/grasp_python_pages/examples/lidar_and_sunphotometer/settings_example_lidar_sunphotometer_inversion.yml\")\n",
    "file_name = \"settings/settingslidarSP.yml\"\n",
    "#SOLO EJECUTAR ESTO 1 VEZ\n",
    "#settings.dump(file_name)\n",
    "# hay que quitar retrieval.general y retrieval.general.path_to_internal_files"
   ]
  },
  {
   "cell_type": "code",
   "execution_count": 47,
   "metadata": {
    "execution": {
     "iopub.execute_input": "2024-12-14T15:42:06.043544Z",
     "iopub.status.busy": "2024-12-14T15:42:06.043128Z",
     "iopub.status.idle": "2024-12-14T15:50:09.385520Z",
     "shell.execute_reply": "2024-12-14T15:50:09.384261Z",
     "shell.execute_reply.started": "2024-12-14T15:42:06.043502Z"
    }
   },
   "outputs": [
    {
     "name": "stdout",
     "output_type": "stream",
     "text": [
      "Config file read successfully\n",
      "The tile is divided in segments with 1 rows, 1 cols and 1 times. 1 inversions will be performed (sequential version)\n",
      "Retrieval #0 (1/1): 100.00%: 1 pixels will be processed\n",
      "in set_RIN_retr_par_number:\n",
      "    KNSING  = 202 - number of parameters driving forward model for each pixel\n",
      "    KNSINGF = 174 - number of retrieved parameters for each pixel\n",
      "in set_RIN_RT_OSH_flags_surf:\n",
      "    isurf_land(1), isurf_land(2), isurf_water:\n",
      "    20101   20201    -999\n",
      "in inversion:\n",
      "    npixels = 1\n",
      "    nsd = 2\n",
      "    lm_min =  0.0000E+00\n",
      "    ccor_min =  0.0000E+00\n",
      "    ccor_max =  1.0000E+02\n",
      "    eps_err = 0.00010\n",
      "    nlvls_geom = 100\n",
      "    aerosol profile   type = 1  (0 - exponential, 1 - gaussian, 2 – threshold)\n",
      "    molecular profile type = 1  (0 - exponential, 1 - stdatm)\n",
      "    Measurements of upward looking instruments are inverted.\n",
      "wavelengths(um):\n",
      "   0.35500   0.44040   0.53200   0.67390   0.87090   1.01970   1.06400\n",
      "WARNING: standard_deviation_synthetic = 0. No random noise is added.\n",
      "in assign_noise_index:\n",
      "    pixel # 1   MNOISE:\n",
      "   3   2   1   4   2   1   2   1   2   1   5\n",
      "\n",
      " 693.94849    1:   0.11804E+01       70.83643 %    2:   0.60763E+00      123.18690 %    3:   0.18160E-03       79.34089 %    4:   0.13885E-03       89.70338 %    5:   0.20050E-03      122.42105 %      pixel # 1      Residual using INITIAL GUESS\n",
      " 196.78844    1:   0.12845E+01       59.25383 %    2:   0.38095E+00       32.66066 %    3:   0.13911E-03       61.51955 %    4:   0.12550E-03       82.56351 %    5:   0.19897E-03      122.42072 %      pixel # 1      Residual after iteration # 1\n",
      " 143.78833    1:   0.11723E+01       50.08360 %    2:   0.26163E+00       22.61520 %    3:   0.13304E-03       58.47558 %    4:   0.12268E-03       81.15227 %    5:   0.19491E-03      121.10469 %      pixel # 1      Residual after iteration # 2\n",
      " 143.62651    1:   0.11615E+01       49.36314 %    2:   0.26151E+00       22.64376 %    3:   0.12938E-03       56.76155 %    4:   0.12063E-03       80.05521 %    5:   0.19292E-03      120.58495 %      pixel # 1      Residual after iteration # 3\n",
      " 107.47218    1:   0.10566E+01       42.09074 %    2:   0.18604E+00       17.03291 %    3:   0.12043E-03       52.28643 %    4:   0.11441E-03       76.87894 %    5:   0.18480E-03      118.43897 %      pixel # 1      Residual after iteration # 4\n",
      " 105.91748    1:   0.10252E+01       40.25101 %    2:   0.18343E+00       17.02940 %    3:   0.11126E-03       47.77267 %    4:   0.10824E-03       73.63407 %    5:   0.17821E-03      116.81447 %      pixel # 1      Residual after iteration # 5\n",
      " 103.00405    1:   0.99132E+00       38.31195 %    2:   0.17800E+00       16.77637 %    3:   0.10250E-03       43.31778 %    4:   0.10193E-03       70.30513 %    5:   0.17134E-03      115.16257 %      pixel # 1      Residual after iteration # 6\n",
      "  99.06035    1:   0.95496E+00       36.31728 %    2:   0.17053E+00       16.29783 %    3:   0.94326E-04       38.96982 %    4:   0.95520E-04       66.91391 %    5:   0.16426E-03      113.48464 %      pixel # 1      Residual after iteration # 7\n",
      "  96.03796    1:   0.88606E+00       32.85665 %    2:   0.16531E+00       16.25562 %    3:   0.78777E-04       30.11809 %    4:   0.82231E-04       59.67397 %    5:   0.14976E-03      110.11573 %      pixel # 1      Residual after iteration # 8\n",
      "  89.10184    1:   0.80982E+00       29.64353 %    2:   0.15236E+00       15.17077 %    3:   0.66602E-04       22.47493 %    4:   0.70316E-04       52.94562 %    5:   0.13619E-03      106.84868 %      pixel # 1      Residual after iteration # 9\n",
      "  80.15513    1:   0.66266E+00       26.68147 %    2:   0.13567E+00       13.73043 %    3:   0.50715E-04       12.69960 %    4:   0.50291E-04       40.81876 %    5:   0.11231E-03      100.43143 %      pixel # 1      Residual after iteration # 10\n",
      "  68.95435    1:   0.43612E+00       33.31019 %    2:   0.11252E+00       12.94765 %    3:   0.38622E-04       14.89782 %    4:   0.24277E-04       21.74099 %    5:   0.66288E-04       78.96090 %      pixel # 1      Residual after iteration # 11\n",
      "  58.17095    1:   0.32002E+00       28.86217 %    2:   0.94200E-01       10.13949 %    3:   0.37009E-04       27.66344 %    4:   0.11086E-04        5.45474 %    5:   0.35948E-04       39.72530 %      pixel # 1      Residual after iteration # 12\n",
      "  27.49434    1:   0.16293E+00       19.06892 %    2:   0.41004E-01        4.46063 %    3:   0.36712E-04       22.54649 %    4:   0.20361E-04       10.23080 %    5:   0.18385E-04       20.05639 %      pixel # 1      Residual after iteration # 13\n",
      "  11.85472    1:   0.52588E-01        5.38079 %    2:   0.18435E-01        1.82169 %    3:   0.44682E-04       19.31638 %    4:   0.28770E-04       16.59027 %    5:   0.59247E-05        9.24784 %      pixel # 1      Residual after iteration # 14\n",
      "   3.95510    1:   0.19015E-01        4.12847 %    2:   0.47848E-02        0.55777 %    3:   0.15555E-04        3.99360 %    4:   0.58751E-05        4.44348 %    5:   0.81734E-05        8.96776 %      pixel # 1      Residual after iteration # 15\n",
      "   3.10397    1:   0.14196E-01        1.49268 %    2:   0.47372E-02        0.53114 %    3:   0.13599E-04        3.18308 %    4:   0.22690E-05        3.93117 %    5:   0.58037E-05        6.25371 %      pixel # 1      Residual after iteration # 16\n",
      "   1.45926    1:   0.10960E-01        1.37199 %    2:   0.18629E-02        0.24725 %    3:   0.66922E-05        1.91504 %    4:   0.20783E-05        3.01008 %    5:   0.15200E-05        2.73822 %      pixel # 1      Residual after iteration # 17\n",
      "   1.30899    1:   0.87303E-02        0.62069 %    2:   0.19896E-02        0.22448 %    3:   0.62514E-05        1.63344 %    4:   0.20942E-05        2.51481 %    5:   0.11343E-05        1.58458 %      pixel # 1      Residual after iteration # 18\n",
      "   0.98169    1:   0.11395E-01        1.05694 %    2:   0.11472E-02        0.15502 %    3:   0.55164E-05        1.31086 %    4:   0.10425E-05        1.98707 %    5:   0.59005E-06        0.44411 %      pixel # 1      Residual after iteration # 19\n",
      "   0.61289    1:   0.54713E-02        0.25120 %    2:   0.92765E-03        0.10631 %    3:   0.47752E-05        1.16341 %    4:   0.10673E-05        1.70935 %    5:   0.43957E-06        0.38035 %      pixel # 1      Residual after iteration # 20\n",
      "   0.50518    1:   0.55063E-02        0.34346 %    2:   0.71247E-03        0.08601 %    3:   0.34789E-05        0.90640 %    4:   0.66079E-06        1.35933 %    5:   0.23436E-06        0.28571 %      pixel # 1      Residual after iteration # 21\n",
      "   0.28376    1:   0.36768E-02        0.16622 %    2:   0.40435E-03        0.04935 %    3:   0.16612E-05        0.59584 %    4:   0.45180E-06        0.84048 %    5:   0.20323E-06        0.29235 %      pixel # 1      Residual after iteration # 22\n",
      "   0.23429    1:   0.27519E-02        0.12044 %    2:   0.33926E-03        0.04195 %    3:   0.10677E-05        0.46930 %    4:   0.36226E-06        0.69039 %    5:   0.20332E-06        0.20350 %      pixel # 1      Residual after iteration # 23\n",
      "   0.12252    1:   0.17371E-02        0.09629 %    2:   0.15440E-03        0.01969 %    3:   0.46615E-06        0.35074 %    4:   0.35479E-06        0.47436 %    5:   0.19039E-06        0.15267 %      pixel # 1      Residual after iteration # 24\n",
      "   0.10761    1:   0.13898E-02        0.07148 %    2:   0.14177E-03        0.01757 %    3:   0.45917E-06        0.31922 %    4:   0.35884E-06        0.42818 %    5:   0.18815E-06        0.12682 %      pixel # 1      Residual after iteration # 25\n",
      "   0.09203    1:   0.11168E-02        0.05976 %    2:   0.11997E-03        0.01551 %    3:   0.46008E-06        0.30003 %    4:   0.35656E-06        0.39100 %    5:   0.19253E-06        0.11286 %      pixel # 1      Residual after iteration # 26\n",
      "   0.08975    1:   0.10259E-02        0.05631 %    2:   0.11779E-03        0.01508 %    3:   0.46809E-06        0.29391 %    4:   0.35762E-06        0.38104 %    5:   0.19220E-06        0.10935 %      pixel # 1      Residual after iteration # 27\n",
      "   0.08578    1:   0.97971E-03        0.05473 %    2:   0.11191E-03        0.01423 %    3:   0.47560E-06        0.28131 %    4:   0.35156E-06        0.36209 %    5:   0.19025E-06        0.10213 %      pixel # 1      Residual after iteration # 28\n",
      "   0.08520    1:   0.84856E-03        0.05201 %    2:   0.11272E-03        0.01403 %    3:   0.49275E-06        0.27000 %    4:   0.35336E-06        0.34511 %    5:   0.19194E-06        0.09636 %      pixel # 1      Residual after iteration # 29\n",
      "   0.08520    1:   0.84856E-03        0.05201 %    2:   0.11272E-03        0.01403 %    3:   0.49275E-06        0.27000 %    4:   0.35336E-06        0.34511 %    5:   0.19194E-06        0.09636 %      pixel # 1      Residual after iteration # 30\n",
      "Solver SUPERLU system solving CPU_time(sec) =         0.00250\n",
      "\n",
      "Retrieval #0 (1/1): 100.00%: 1 pixels processed in 480.820230 seconds (cpu time: 484.301892). Average per pixel: 480.820230 (cpu time: 484.301892)\n",
      "Retrieval #0 (1/1): 100.00%: finished\n"
     ]
    },
    {
     "name": "stderr",
     "output_type": "stream",
     "text": [
      "WARNING: File /workspace/master/output/outpust_lidarSP.txt already exists and it will be overwritten\n"
     ]
    },
    {
     "name": "stdout",
     "output_type": "stream",
     "text": [
      "Total Time: 1 pixels processed in 482.359101 seconds (cpu time: 485.858148). Average per pixel: 482.359101 (cpu time: 485.858148)\n",
      "Algorithm Time: 1 pixels processed in 480.820230 seconds (cpu time: 484.301892). Average per pixel: 480.820230 (cpu time: 484.301892)\n",
      "Control Unit Time: 1 pixels processed in 1.538871 seconds (cpu time: 1.556256). Average per pixel: 1.538871 (cpu time: -1.942791)\n",
      "Warning: Failed to load the characteristic size_distribution_triangle_bins, since modes with different array sizes are not supported.\n"
     ]
    }
   ],
   "source": [
    "#Imprimir resultados de la inversion lidar + fotometro \n",
    "settings = pygrasp.Settings.load(\"settings/settingslidarSP.yml\")\n",
    "\n",
    "settings.input.file=\"/workspace/welcome/grasp_python_pages/examples/lidar_and_sunphotometer/example_lidar_sunphotometer.sdat\"\n",
    "settings.output.segment.stream=\"output/outpust_lidarSP.txt\"\n",
    "results = pygrasp.run(settings,print_screen=True)\n"
   ]
  },
  {
   "cell_type": "code",
   "execution_count": 48,
   "metadata": {
    "execution": {
     "iopub.execute_input": "2024-12-14T15:50:09.387689Z",
     "iopub.status.busy": "2024-12-14T15:50:09.387267Z",
     "iopub.status.idle": "2024-12-14T15:50:09.398505Z",
     "shell.execute_reply": "2024-12-14T15:50:09.397498Z",
     "shell.execute_reply.started": "2024-12-14T15:50:09.387652Z"
    }
   },
   "outputs": [
    {
     "name": "stdout",
     "output_type": "stream",
     "text": [
      "pixel_result_t[time=1, x=1, y=1]\n",
      "\n",
      "pixel_result_t\n",
      "  - information: grasp_output_tile_pixel_information\n",
      "  - retrieval_res: *grasp_output_tile_retrieval_res\n",
      "  - retrieval_par: *grasp_output_tile_retrieval_par\n",
      "  - pixel_fit: *pixel_t\n",
      "  - pixel_original: *pixel_t\n",
      "  - aerosol_opt: *grasp_output_tile_aerosol_opt\n",
      "  - aerosol_rind: *grasp_output_tile_aerosol_rind\n",
      "  - aerosol_phmx: *grasp_output_tile_aerosol_phmx\n",
      "  - aerosol_lidar: *grasp_output_tile_aerosol_lidar\n",
      "  - aerosol_sd2m_mph: *grasp_output_tile_aerosol_sd2m_mph\n",
      "  - aerosol_sd2m_ext: *grasp_output_tile_aerosol_sd2m_ext\n",
      "  - aerosol_chem: *grasp_output_tile_aerosol_chem\n",
      "  - aerosol_pm: *grasp_output_tile_aerosol_pm\n",
      "  - aerosol_types: *grasp_output_tile_aerosol_types\n",
      "  - surface_surf: *grasp_output_tile_surface_surf\n",
      "  - errest_par: *grasp_output_tile_errest_par\n",
      "  - errest_aerosol_opt: *grasp_output_tile_errest_aerosol_opt\n",
      "  - errest_aerosol_lidar: *grasp_output_tile_errest_aerosol_lidar\n",
      "  - errest_aerosol_mic: *grasp_output_tile_errest_aerosol_mic\n",
      "  - errest_aerosol_sd2m_extfc: *grasp_output_tile_errest_aerosol_sd2m_extfc\n",
      "  - forcing_bbflux: *grasp_output_tile_forcing_bbflux\n",
      "  - forcing_forcing: *grasp_output_tile_forcing_forcing\n",
      "  - gases: *grasp_output_tile_gases\n",
      "  - retrieved:\n",
      "      - real_part_of_refractive_index_spectral_dependent[time, y, x, wl, rind_mode]\n",
      "      - imaginary_part_of_refractive_index_spectral_dependent[time, y, x, wl, rind_mode]\n",
      "      - sphere_fraction[time, y, x, sphere_fraction_dim, sphere_fraction_mode]\n",
      "      - vertical_profile_normalized[time, y, x, height, vp_mode]\n",
      "      - surface_land_brdf_ross_li[time, y, x, wl, surface_land_brdf_ross_li_mode]\n",
      "      - surface_land_polarized_maignan_breon[time, y, x, wl, surface_land_polarized_maignan_breon_mode]\n",
      "\n"
     ]
    }
   ],
   "source": [
    "#Que hay en el output\n",
    "print(results[0,0,0])"
   ]
  },
  {
   "cell_type": "code",
   "execution_count": 49,
   "metadata": {
    "execution": {
     "iopub.execute_input": "2024-12-14T15:50:09.400254Z",
     "iopub.status.busy": "2024-12-14T15:50:09.399900Z",
     "iopub.status.idle": "2024-12-14T15:50:10.321129Z",
     "shell.execute_reply": "2024-12-14T15:50:10.319824Z",
     "shell.execute_reply.started": "2024-12-14T15:50:09.400187Z"
    }
   },
   "outputs": [
    {
     "data": {
      "image/png": "[encoded data removed]",
      "text/plain": [
       "<Figure size 640x480 with 1 Axes>"
      ]
     },
     "metadata": {},
     "output_type": "display_data"
    },
    {
     "data": {
      "image/png": "[encoded data removed]",
      "text/plain": [
       "<Figure size 640x480 with 1 Axes>"
      ]
     },
     "metadata": {},
     "output_type": "display_data"
    }
   ],
   "source": [
    "sdT=(results[0, 0, 0].retrieval_par[0,0,0].sd[0,0:22])\n",
    "radiusT=(results[0, 0, 0].retrieval_par[0,0,0].sd[0,0:22].radius)\n",
    "sdF=(results[0, 0, 0].retrieval_par[0,0,0].sd[1,0:10])\n",
    "radiusF=(results[0, 0, 0].retrieval_par[0,0,0].sd[1,0:10].radius)\n",
    "sdC=(results[0, 0, 0].retrieval_par[0,0,0].sd[2,0:15])\n",
    "radiusC=(results[0, 0, 0].retrieval_par[0,0,0].sd[2,0:15].radius)\n",
    "plt.plot(radiusT,sdT,label='Total')\n",
    "plt.xscale('log')\n",
    "plt.ion\n",
    "plt.plot(radiusF,sdF, '-.r',label='Fino')\n",
    "plt.plot(radiusC,sdC, '-.g',label='Grueso')\n",
    "plt.xlabel(\"Radio (micras)\")\n",
    "plt.ylabel(\"Aerosol VC (um^3/um^2)\");\n",
    "plt.legend()\n",
    "tick_positions = [0.05, 0.2, 1, 5, 15]  # Posiciones en el eje x\n",
    "plt.xticks(tick_positions, labels=tick_positions)  # Usar las mismas etiquetas que las posiciones\n",
    "plt.show()\n",
    "\n",
    "avF=(results[0, 0, 0].retrieved.vertical_profile_normalized[0,0,0,:,0].values)\n",
    "hF=(results[0, 0, 0].retrieved.vertical_profile_normalized[0,0,0,:,1].height)\n",
    "avC=(results[0, 0, 0].retrieved.vertical_profile_normalized[0,0,0,:,1].values)\n",
    "hC=(results[0, 0, 0].retrieved.vertical_profile_normalized[0,0,0,:,1].height)\n",
    "\n",
    "plt.plot(avF,hF,label='Fino')\n",
    "plt.ion\n",
    "plt.plot(avC,hC,label='Grueso')\n",
    "plt.xlabel(\"AVP normalizado\")\n",
    "plt.ylabel(\"Altura (m asl)\");\n",
    "plt.legend()\n",
    "plt.show()"
   ]
  },
  {
   "cell_type": "code",
   "execution_count": 50,
   "metadata": {
    "execution": {
     "iopub.execute_input": "2024-12-14T15:50:10.323249Z",
     "iopub.status.busy": "2024-12-14T15:50:10.322730Z",
     "iopub.status.idle": "2024-12-14T15:50:10.593399Z",
     "shell.execute_reply": "2024-12-14T15:50:10.592153Z",
     "shell.execute_reply.started": "2024-12-14T15:50:10.323209Z"
    }
   },
   "outputs": [],
   "source": [
    "#CONTROL SDATAS\n",
    "seg = pygrasp.Segment(\"/workspace/welcome/grasp_python_pages/examples/lidar_and_sunphotometer/example_lidar_sunphotometer.sdat\")"
   ]
  },
  {
   "cell_type": "code",
   "execution_count": 51,
   "metadata": {
    "execution": {
     "iopub.execute_input": "2024-12-14T15:50:10.595440Z",
     "iopub.status.busy": "2024-12-14T15:50:10.594934Z",
     "iopub.status.idle": "2024-12-14T15:50:10.602127Z",
     "shell.execute_reply": "2024-12-14T15:50:10.600877Z",
     "shell.execute_reply.started": "2024-12-14T15:50:10.595399Z"
    }
   },
   "outputs": [
    {
     "name": "stdout",
     "output_type": "stream",
     "text": [
      "pixel_t\n",
      "  - hobs: float\n",
      "  - nwl: int\n",
      "  - cloudy: int\n",
      "  - x: float\n",
      "  - y: float\n",
      "  - t: int64_t\n",
      "  - ix: int\n",
      "  - iy: int\n",
      "  - it: int\n",
      "  - out_x: int\n",
      "  - out_y: int\n",
      "  - out_t: int\n",
      "  - masl: float\n",
      "  - land_percent: float\n",
      "  - irow: int\n",
      "  - icol: int\n",
      "  - file_index: int\n",
      "  - ifgas: int\n",
      "  - meas: data_wl_t[_KWM]\n",
      "  - hvp: float[_KVERTM]\n",
      "\n"
     ]
    }
   ],
   "source": [
    "print(seg.sdata.pixel[0])"
   ]
  },
  {
   "cell_type": "code",
   "execution_count": 52,
   "metadata": {
    "execution": {
     "iopub.execute_input": "2024-12-14T15:50:10.604101Z",
     "iopub.status.busy": "2024-12-14T15:50:10.603672Z",
     "iopub.status.idle": "2024-12-14T15:50:10.612151Z",
     "shell.execute_reply": "2024-12-14T15:50:10.610964Z",
     "shell.execute_reply.started": "2024-12-14T15:50:10.604058Z"
    }
   },
   "outputs": [],
   "source": [
    "# copiar y añadir un pixel (Se copian todos los valores)\n",
    "seg.sdata.pixel[1] = seg.sdata.pixel[0]\n",
    "\n",
    "seg.sdata.npixels = 2\n",
    "seg.sdata.nt = 2\n",
    "\n",
    "seg.sdata.pixel[1].it = 2  # hay que decir al pixel que es el segundo en el orden\n",
    "seg.sdata.pixel[1].t += 24 * 60 * 60  # tiempo es en segundos (unix epoch), aqui se le dice que es de un dia después"
   ]
  },
  {
   "cell_type": "code",
   "execution_count": 53,
   "metadata": {
    "execution": {
     "iopub.execute_input": "2024-12-14T15:50:10.614712Z",
     "iopub.status.busy": "2024-12-14T15:50:10.614164Z",
     "iopub.status.idle": "2024-12-14T15:50:10.623540Z",
     "shell.execute_reply": "2024-12-14T15:50:10.622068Z",
     "shell.execute_reply.started": "2024-12-14T15:50:10.614674Z"
    }
   },
   "outputs": [
    {
     "name": "stdout",
     "output_type": "stream",
     "text": [
      "7\n",
      "[0.355, 0.44, 0.532, 0.674, 0.871, 1.02, 1.064]\n"
     ]
    }
   ],
   "source": [
    "#ver las longitudes\n",
    "nwl = seg.sdata.pixel[1].nwl\n",
    "print(nwl)  #El pixel debe tener 7 longitudes: 4 fotometro + 3 lidar\n",
    "print([round(seg.sdata.pixel[1].meas[i].wl, 3) for i in range(nwl)])"
   ]
  },
  {
   "cell_type": "code",
   "execution_count": 54,
   "metadata": {
    "execution": {
     "iopub.execute_input": "2024-12-14T15:50:10.626027Z",
     "iopub.status.busy": "2024-12-14T15:50:10.625097Z",
     "iopub.status.idle": "2024-12-14T15:50:10.634316Z",
     "shell.execute_reply": "2024-12-14T15:50:10.632897Z",
     "shell.execute_reply.started": "2024-12-14T15:50:10.625987Z"
    }
   },
   "outputs": [
    {
     "name": "stdout",
     "output_type": "stream",
     "text": [
      "tipo de medida lidar (355 nm)\n",
      "31\n",
      "tipo de medida aod 440\n",
      "11\n",
      "tipo de medida Radiancia 440\n",
      "41\n"
     ]
    }
   ],
   "source": [
    "#Ver el tipo de medida\n",
    "print(\"tipo de medida lidar (355 nm)\")\n",
    "print(seg.sdata.pixel[1].meas[0].meas_type[0])\n",
    "print(\"tipo de medida aod 440\")\n",
    "print(seg.sdata.pixel[1].meas[1].meas_type[0])\n",
    "print(\"tipo de medida Radiancia 440\")\n",
    "print(seg.sdata.pixel[1].meas[1].meas_type[1])\n"
   ]
  },
  {
   "cell_type": "code",
   "execution_count": 55,
   "metadata": {
    "execution": {
     "iopub.execute_input": "2024-12-14T15:50:10.636770Z",
     "iopub.status.busy": "2024-12-14T15:50:10.635883Z",
     "iopub.status.idle": "2024-12-14T15:50:10.643041Z",
     "shell.execute_reply": "2024-12-14T15:50:10.641876Z",
     "shell.execute_reply.started": "2024-12-14T15:50:10.636731Z"
    }
   },
   "outputs": [
    {
     "name": "stdout",
     "output_type": "stream",
     "text": [
      "26\n"
     ]
    }
   ],
   "source": [
    "#Ver el numero de medidas para cada tipo y longitud de onda\n",
    "nbvm = seg.sdata.pixel[1].meas[1].nbvm[1] #Radiancia a 440 (segunda longitud y segundo tipo)\n",
    "print(np.array(nbvm))"
   ]
  },
  {
   "cell_type": "code",
   "execution_count": 56,
   "metadata": {
    "execution": {
     "iopub.execute_input": "2024-12-14T15:50:10.645017Z",
     "iopub.status.busy": "2024-12-14T15:50:10.644541Z",
     "iopub.status.idle": "2024-12-14T15:50:10.655881Z",
     "shell.execute_reply": "2024-12-14T15:50:10.654632Z",
     "shell.execute_reply.started": "2024-12-14T15:50:10.644973Z"
    }
   },
   "outputs": [
    {
     "name": "stdout",
     "output_type": "stream",
     "text": [
      "[8.25995539e-06 9.04881927e-06 9.86178293e-06 1.07455971e-05\n",
      " 1.16486590e-05 1.25693741e-05 1.35669525e-05 1.46443226e-05\n",
      " 1.56829465e-05 1.68032529e-05 1.80043207e-05 1.92351199e-05\n",
      " 2.04907901e-05 2.17651213e-05 2.31332597e-05 2.53728049e-05\n",
      " 2.96832295e-05 3.80080783e-05 5.32390477e-05 7.81758645e-05\n",
      " 1.14582450e-04 1.62433469e-04 2.20303307e-04 2.83720990e-04\n",
      " 3.46698391e-04 4.03595157e-04 4.48398321e-04 4.76397458e-04\n",
      " 4.87789628e-04 4.82700503e-04 4.65641235e-04 4.39906667e-04\n",
      " 4.09770000e-04 3.78463505e-04 3.49401147e-04 3.21904139e-04\n",
      " 2.98245897e-04 2.78371997e-04 2.61956477e-04 2.49243778e-04\n",
      " 2.37726184e-04 2.30006292e-04 2.23398107e-04 2.18813482e-04\n",
      " 2.15008084e-04 2.12877727e-04 2.11658771e-04 2.10269776e-04\n",
      " 2.09575112e-04 2.10168961e-04 2.10378523e-04 2.10769620e-04\n",
      " 2.11945706e-04 2.12757819e-04 2.13782128e-04 2.14737360e-04\n",
      " 2.15334774e-04 2.16157248e-04 2.17821318e-04 2.18237285e-04]\n"
     ]
    }
   ],
   "source": [
    "#Extraer los datos del sdata de la señal lidar (RCS)\n",
    "nbvm = seg.sdata.pixel[1].meas[0].nbvm[0]\n",
    "lidar_signal = np.array(seg.sdata.pixel[1].meas[0].ls[:nbvm])\n",
    "lidar_signal2 = np.array(seg.sdata.pixel[1].meas[2].ls[:nbvm])\n",
    "lidar_signal3 = np.array(seg.sdata.pixel[1].meas[6].ls[:nbvm])\n",
    "print(lidar_signal2[0:])"
   ]
  },
  {
   "cell_type": "code",
   "execution_count": 57,
   "metadata": {
    "execution": {
     "iopub.execute_input": "2024-12-14T15:50:10.663444Z",
     "iopub.status.busy": "2024-12-14T15:50:10.662374Z",
     "iopub.status.idle": "2024-12-14T15:50:11.061896Z",
     "shell.execute_reply": "2024-12-14T15:50:11.060729Z",
     "shell.execute_reply.started": "2024-12-14T15:50:10.663405Z"
    }
   },
   "outputs": [
    {
     "data": {
      "image/png": "[encoded data removed]",
      "text/plain": [
       "<Figure size 640x480 with 1 Axes>"
      ]
     },
     "metadata": {},
     "output_type": "display_data"
    }
   ],
   "source": [
    "#Dibujar la señal lidar\n",
    "lidar_signal = np.array(seg.sdata.pixel[1].meas[0].ls[:nbvm]) #355 nm\n",
    "plt.plot((lidar_signal), np.argsort(np.arange(len(lidar_signal)))[::-1])\n",
    "plt.title(f\"Lidar measurements for {round(seg.sdata.pixel[1].meas[0].wl, 3)}µm\");\n",
    "plt.ylabel(\"Altitude bin\");\n"
   ]
  },
  {
   "cell_type": "code",
   "execution_count": 58,
   "metadata": {
    "execution": {
     "iopub.execute_input": "2024-12-14T15:50:11.063928Z",
     "iopub.status.busy": "2024-12-14T15:50:11.063467Z",
     "iopub.status.idle": "2024-12-14T15:50:11.579790Z",
     "shell.execute_reply": "2024-12-14T15:50:11.578332Z",
     "shell.execute_reply.started": "2024-12-14T15:50:11.063890Z"
    }
   },
   "outputs": [
    {
     "name": "stdout",
     "output_type": "stream",
     "text": [
      "longitud de onda\n",
      "355.0\n",
      "longitud de onda\n",
      "532.0\n",
      "longitud de onda\n",
      "1064.0\n"
     ]
    },
    {
     "data": {
      "image/png": "[encoded data removed]",
      "text/plain": [
       "<Figure size 640x480 with 1 Axes>"
      ]
     },
     "metadata": {},
     "output_type": "display_data"
    }
   ],
   "source": [
    "#Añadir ruido a las medidas\n",
    "for iwl in [0,2,6]:\n",
    "    print(\"longitud de onda\")\n",
    "    print(round(1000*seg.sdata.pixel[1].meas[iwl].wl, 3))\n",
    "    lidar_signal = np.array(seg.sdata.pixel[1].meas[iwl].ls[:nbvm])\n",
    "    lidar_signal += np.random.rand(lidar_signal.size) * 5E-5  # añade ruido aleatorio\n",
    "    seg.sdata.pixel[1].meas[iwl].ls[:nbvm] = lidar_signal\n",
    "\n",
    "    plt.plot((lidar_signal), np.argsort(np.arange(len(lidar_signal)))[::-1],label=f\"{1000*round(seg.sdata.pixel[1].meas[iwl].wl, 3)}nm\")\n",
    "    plt.ion()\n",
    "\n",
    "plt.title(f\"Lidar measurements for 355,532 and 1064 nm\");\n",
    "plt.ylabel(\"Altitude bin\");\n",
    "plt.legend(loc=\"best\");"
   ]
  },
  {
   "cell_type": "code",
   "execution_count": 59,
   "metadata": {
    "execution": {
     "iopub.execute_input": "2024-12-14T15:50:11.582477Z",
     "iopub.status.busy": "2024-12-14T15:50:11.581895Z",
     "iopub.status.idle": "2024-12-14T15:50:12.018333Z",
     "shell.execute_reply": "2024-12-14T15:50:12.017178Z",
     "shell.execute_reply.started": "2024-12-14T15:50:11.582431Z"
    }
   },
   "outputs": [
    {
     "name": "stdout",
     "output_type": "stream",
     "text": [
      "[183.5 184.  185.  186.  187.  188.  190.  192.  194.  196.  198.  200.\n",
      " 205.  210.  215.  220.  225.  230.  240.  250.  260.  270.  280.  300.\n",
      " 320.  340. ]\n",
      "[0. 0. 0. 0. 0. 0. 0. 0. 0. 0. 0. 0. 0. 0. 0. 0. 0. 0. 0. 0. 0. 0. 0. 0.\n",
      " 0.]\n"
     ]
    },
    {
     "data": {
      "image/png": "[encoded data removed]",
      "text/plain": [
       "<Figure size 640x480 with 1 Axes>"
      ]
     },
     "metadata": {},
     "output_type": "display_data"
    }
   ],
   "source": [
    "#dibujo las radiancias  440 nm\n",
    "nbvm=seg.sdata.pixel[1].meas[1].nbvm[1] # number of valid measurements\n",
    "Rad = np.array(seg.sdata.pixel[1].meas[1].i[:nbvm])\n",
    "Azimuth=np.array(seg.sdata.pixel[1].meas[1].phi[1][:nbvm])\n",
    "\n",
    "plt.plot(Azimuth, Rad)\n",
    "plt.title(f\"Radiancias almcuantar a  {round(seg.sdata.pixel[1].meas[1].wl, 3)}µm\");\n",
    "print(Azimuth)\n",
    "\n",
    "plt.ion() \n",
    "nbvm=seg.sdata.pixel[1].meas[5].nbvm[1] # number of valid measurements\n",
    "Rad = np.array(seg.sdata.pixel[5].meas[1].i[:nbvm])\n",
    "Azimuth=np.array(seg.sdata.pixel[5].meas[1].phi[1][:nbvm])\n",
    "\n",
    "plt.plot(Azimuth, Rad)\n",
    "plt.title(f\"Radiancias almcuantar a  {round(seg.sdata.pixel[1].meas[1].wl, 3)}µm\");\n",
    "print(Azimuth)"
   ]
  }
 ],
 "metadata": {
  "kernelspec": {
   "display_name": "Python 3 (ipykernel)",
   "language": "python",
   "name": "python3"
  },
  "language_info": {
   "codemirror_mode": {
    "name": "ipython",
    "version": 3
   },
   "file_extension": ".py",
   "mimetype": "text/x-python",
   "name": "python",
   "nbconvert_exporter": "python",
   "pygments_lexer": "ipython3",
   "version": "3.11.5"
  },
  "varInspector": {
   "cols": {
    "lenName": 16,
    "lenType": 16,
    "lenVar": 40
   },
   "kernels_config": {
    "python": {
     "delete_cmd_postfix": "",
     "delete_cmd_prefix": "del ",
     "library": "var_list.py",
     "varRefreshCmd": "print(var_dic_list())"
    },
    "r": {
     "delete_cmd_postfix": ") ",
     "delete_cmd_prefix": "rm(",
     "library": "var_list.r",
     "varRefreshCmd": "cat(var_dic_list()) "
    }
   },
   "types_to_exclude": [
    "module",
    "function",
    "builtin_function_or_method",
    "instance",
    "_Feature"
   ],
   "window_display": false
  }
 },
 "nbformat": 4,
 "nbformat_minor": 4
}
